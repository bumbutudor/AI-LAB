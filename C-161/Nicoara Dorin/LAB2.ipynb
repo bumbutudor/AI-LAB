{
 "cells": [
  {
   "cell_type": "markdown",
   "metadata": {},
   "source": [
    "## Citirea fsierului cu info IMBD"
   ]
  },
  {
   "cell_type": "markdown",
   "metadata": {},
   "source": [
    "Creati un fisier  in jupyter notebook cu denumirea pandas_avasnsat.ipynb\n",
    "Importam bibliotecile\n"
   ]
  },
  {
   "cell_type": "code",
   "execution_count": 1,
   "metadata": {},
   "outputs": [],
   "source": [
    "import pandas as pd\n",
    "import numpy as np\n",
    "from pandas import DataFrame, Series\n",
    "%matplotlib inline"
   ]
  },
  {
   "cell_type": "code",
   "execution_count": 2,
   "metadata": {},
   "outputs": [
    {
     "data": {
      "text/html": [
       "<div>\n",
       "<style scoped>\n",
       "    .dataframe tbody tr th:only-of-type {\n",
       "        vertical-align: middle;\n",
       "    }\n",
       "\n",
       "    .dataframe tbody tr th {\n",
       "        vertical-align: top;\n",
       "    }\n",
       "\n",
       "    .dataframe thead th {\n",
       "        text-align: right;\n",
       "    }\n",
       "</style>\n",
       "<table border=\"1\" class=\"dataframe\">\n",
       "  <thead>\n",
       "    <tr style=\"text-align: right;\">\n",
       "      <th></th>\n",
       "      <th>An</th>\n",
       "      <th>Titlu</th>\n",
       "      <th>Organizatia</th>\n",
       "      <th>IMBD</th>\n",
       "      <th>AltRating</th>\n",
       "      <th>DataX</th>\n",
       "      <th>UnknownColumn</th>\n",
       "      <th>PretMediulaBilet</th>\n",
       "      <th>NrDeSpectatori</th>\n",
       "      <th>TopPentruAncutare</th>\n",
       "    </tr>\n",
       "  </thead>\n",
       "  <tbody>\n",
       "    <tr>\n",
       "      <td>0</td>\n",
       "      <td>1978</td>\n",
       "      <td>Superman</td>\n",
       "      <td>DC</td>\n",
       "      <td>7.3</td>\n",
       "      <td>95</td>\n",
       "      <td>84.0</td>\n",
       "      <td>7465343.0</td>\n",
       "      <td>2.34</td>\n",
       "      <td>3.190318e+06</td>\n",
       "      <td>222584545</td>\n",
       "    </tr>\n",
       "    <tr>\n",
       "      <td>1</td>\n",
       "      <td>1980</td>\n",
       "      <td>Superman II</td>\n",
       "      <td>DC</td>\n",
       "      <td>6.7</td>\n",
       "      <td>88</td>\n",
       "      <td>77.5</td>\n",
       "      <td>14100523.0</td>\n",
       "      <td>2.69</td>\n",
       "      <td>5.241830e+06</td>\n",
       "      <td>227224681</td>\n",
       "    </tr>\n",
       "    <tr>\n",
       "      <td>2</td>\n",
       "      <td>1982</td>\n",
       "      <td>Swamp Thing</td>\n",
       "      <td>DC</td>\n",
       "      <td>5.3</td>\n",
       "      <td>60</td>\n",
       "      <td>56.5</td>\n",
       "      <td>NaN</td>\n",
       "      <td>2.94</td>\n",
       "      <td>NaN</td>\n",
       "      <td>231664458</td>\n",
       "    </tr>\n",
       "    <tr>\n",
       "      <td>3</td>\n",
       "      <td>1983</td>\n",
       "      <td>Superman III</td>\n",
       "      <td>DC</td>\n",
       "      <td>4.9</td>\n",
       "      <td>24</td>\n",
       "      <td>36.5</td>\n",
       "      <td>13352357.0</td>\n",
       "      <td>3.15</td>\n",
       "      <td>4.238843e+06</td>\n",
       "      <td>233791994</td>\n",
       "    </tr>\n",
       "    <tr>\n",
       "      <td>4</td>\n",
       "      <td>1984</td>\n",
       "      <td>Supergirl</td>\n",
       "      <td>DC</td>\n",
       "      <td>4.2</td>\n",
       "      <td>8</td>\n",
       "      <td>25.0</td>\n",
       "      <td>5738249.0</td>\n",
       "      <td>3.36</td>\n",
       "      <td>1.707812e+06</td>\n",
       "      <td>235824902</td>\n",
       "    </tr>\n",
       "    <tr>\n",
       "      <td>5</td>\n",
       "      <td>1986</td>\n",
       "      <td>Howard the Duck</td>\n",
       "      <td>Marvel</td>\n",
       "      <td>4.3</td>\n",
       "      <td>16</td>\n",
       "      <td>29.5</td>\n",
       "      <td>5070136.0</td>\n",
       "      <td>3.71</td>\n",
       "      <td>1.366613e+06</td>\n",
       "      <td>240132887</td>\n",
       "    </tr>\n",
       "    <tr>\n",
       "      <td>6</td>\n",
       "      <td>1987</td>\n",
       "      <td>Superman IV: The Quest for Peace</td>\n",
       "      <td>DC</td>\n",
       "      <td>3.6</td>\n",
       "      <td>10</td>\n",
       "      <td>23.0</td>\n",
       "      <td>5683122.0</td>\n",
       "      <td>3.91</td>\n",
       "      <td>1.453484e+06</td>\n",
       "      <td>242288918</td>\n",
       "    </tr>\n",
       "    <tr>\n",
       "      <td>7</td>\n",
       "      <td>1989</td>\n",
       "      <td>Batman</td>\n",
       "      <td>DC</td>\n",
       "      <td>7.6</td>\n",
       "      <td>71</td>\n",
       "      <td>73.5</td>\n",
       "      <td>40489746.0</td>\n",
       "      <td>3.97</td>\n",
       "      <td>1.019893e+07</td>\n",
       "      <td>246819230</td>\n",
       "    </tr>\n",
       "  </tbody>\n",
       "</table>\n",
       "</div>"
      ],
      "text/plain": [
       "     An                             Titlu Organizatia  IMBD  AltRating  DataX  \\\n",
       "0  1978                          Superman          DC   7.3         95   84.0   \n",
       "1  1980                       Superman II          DC   6.7         88   77.5   \n",
       "2  1982                       Swamp Thing          DC   5.3         60   56.5   \n",
       "3  1983                      Superman III          DC   4.9         24   36.5   \n",
       "4  1984                         Supergirl          DC   4.2          8   25.0   \n",
       "5  1986                   Howard the Duck      Marvel   4.3         16   29.5   \n",
       "6  1987  Superman IV: The Quest for Peace          DC   3.6         10   23.0   \n",
       "7  1989                            Batman          DC   7.6         71   73.5   \n",
       "\n",
       "   UnknownColumn  PretMediulaBilet  NrDeSpectatori  TopPentruAncutare  \n",
       "0      7465343.0              2.34    3.190318e+06          222584545  \n",
       "1     14100523.0              2.69    5.241830e+06          227224681  \n",
       "2            NaN              2.94             NaN          231664458  \n",
       "3     13352357.0              3.15    4.238843e+06          233791994  \n",
       "4      5738249.0              3.36    1.707812e+06          235824902  \n",
       "5      5070136.0              3.71    1.366613e+06          240132887  \n",
       "6      5683122.0              3.91    1.453484e+06          242288918  \n",
       "7     40489746.0              3.97    1.019893e+07          246819230  "
      ]
     },
     "execution_count": 2,
     "metadata": {},
     "output_type": "execute_result"
    }
   ],
   "source": [
    "csv = pd.read_csv(\"dataset/imbd_superhero.csv\", \n",
    "                  header=None, \n",
    "                  names=['An', 'Titlu','Organizatia', 'IMBD', 'AltRating', 'DataX', 'UnknownColumn', 'PretMediulaBilet', 'NrDeSpectatori', 'TopPentruAncutare'])\n",
    "csv.head(8)"
   ]
  },
  {
   "cell_type": "markdown",
   "metadata": {},
   "source": [
    "Vedem multe valori NaN - Not a Nuber. In numpy este o functie care detecteaza aceste valori si le eilmina utilizand functia isfinite()"
   ]
  },
  {
   "cell_type": "code",
   "execution_count": 3,
   "metadata": {},
   "outputs": [
    {
     "data": {
      "text/html": [
       "<div>\n",
       "<style scoped>\n",
       "    .dataframe tbody tr th:only-of-type {\n",
       "        vertical-align: middle;\n",
       "    }\n",
       "\n",
       "    .dataframe tbody tr th {\n",
       "        vertical-align: top;\n",
       "    }\n",
       "\n",
       "    .dataframe thead th {\n",
       "        text-align: right;\n",
       "    }\n",
       "</style>\n",
       "<table border=\"1\" class=\"dataframe\">\n",
       "  <thead>\n",
       "    <tr style=\"text-align: right;\">\n",
       "      <th></th>\n",
       "      <th>An</th>\n",
       "      <th>Titlu</th>\n",
       "      <th>Organizatia</th>\n",
       "      <th>IMBD</th>\n",
       "      <th>AltRating</th>\n",
       "      <th>DataX</th>\n",
       "      <th>UnknownColumn</th>\n",
       "      <th>PretMediulaBilet</th>\n",
       "      <th>NrDeSpectatori</th>\n",
       "      <th>TopPentruAncutare</th>\n",
       "    </tr>\n",
       "  </thead>\n",
       "  <tbody>\n",
       "    <tr>\n",
       "      <td>0</td>\n",
       "      <td>1978</td>\n",
       "      <td>Superman</td>\n",
       "      <td>DC</td>\n",
       "      <td>7.3</td>\n",
       "      <td>95</td>\n",
       "      <td>84.0</td>\n",
       "      <td>7465343.0</td>\n",
       "      <td>2.34</td>\n",
       "      <td>3.190318e+06</td>\n",
       "      <td>222584545</td>\n",
       "    </tr>\n",
       "    <tr>\n",
       "      <td>1</td>\n",
       "      <td>1980</td>\n",
       "      <td>Superman II</td>\n",
       "      <td>DC</td>\n",
       "      <td>6.7</td>\n",
       "      <td>88</td>\n",
       "      <td>77.5</td>\n",
       "      <td>14100523.0</td>\n",
       "      <td>2.69</td>\n",
       "      <td>5.241830e+06</td>\n",
       "      <td>227224681</td>\n",
       "    </tr>\n",
       "    <tr>\n",
       "      <td>3</td>\n",
       "      <td>1983</td>\n",
       "      <td>Superman III</td>\n",
       "      <td>DC</td>\n",
       "      <td>4.9</td>\n",
       "      <td>24</td>\n",
       "      <td>36.5</td>\n",
       "      <td>13352357.0</td>\n",
       "      <td>3.15</td>\n",
       "      <td>4.238843e+06</td>\n",
       "      <td>233791994</td>\n",
       "    </tr>\n",
       "    <tr>\n",
       "      <td>4</td>\n",
       "      <td>1984</td>\n",
       "      <td>Supergirl</td>\n",
       "      <td>DC</td>\n",
       "      <td>4.2</td>\n",
       "      <td>8</td>\n",
       "      <td>25.0</td>\n",
       "      <td>5738249.0</td>\n",
       "      <td>3.36</td>\n",
       "      <td>1.707812e+06</td>\n",
       "      <td>235824902</td>\n",
       "    </tr>\n",
       "    <tr>\n",
       "      <td>5</td>\n",
       "      <td>1986</td>\n",
       "      <td>Howard the Duck</td>\n",
       "      <td>Marvel</td>\n",
       "      <td>4.3</td>\n",
       "      <td>16</td>\n",
       "      <td>29.5</td>\n",
       "      <td>5070136.0</td>\n",
       "      <td>3.71</td>\n",
       "      <td>1.366613e+06</td>\n",
       "      <td>240132887</td>\n",
       "    </tr>\n",
       "    <tr>\n",
       "      <td>6</td>\n",
       "      <td>1987</td>\n",
       "      <td>Superman IV: The Quest for Peace</td>\n",
       "      <td>DC</td>\n",
       "      <td>3.6</td>\n",
       "      <td>10</td>\n",
       "      <td>23.0</td>\n",
       "      <td>5683122.0</td>\n",
       "      <td>3.91</td>\n",
       "      <td>1.453484e+06</td>\n",
       "      <td>242288918</td>\n",
       "    </tr>\n",
       "    <tr>\n",
       "      <td>7</td>\n",
       "      <td>1989</td>\n",
       "      <td>Batman</td>\n",
       "      <td>DC</td>\n",
       "      <td>7.6</td>\n",
       "      <td>71</td>\n",
       "      <td>73.5</td>\n",
       "      <td>40489746.0</td>\n",
       "      <td>3.97</td>\n",
       "      <td>1.019893e+07</td>\n",
       "      <td>246819230</td>\n",
       "    </tr>\n",
       "    <tr>\n",
       "      <td>10</td>\n",
       "      <td>1992</td>\n",
       "      <td>Batman Returns</td>\n",
       "      <td>DC</td>\n",
       "      <td>7.0</td>\n",
       "      <td>78</td>\n",
       "      <td>74.0</td>\n",
       "      <td>45687711.0</td>\n",
       "      <td>4.15</td>\n",
       "      <td>1.100909e+07</td>\n",
       "      <td>255029699</td>\n",
       "    </tr>\n",
       "  </tbody>\n",
       "</table>\n",
       "</div>"
      ],
      "text/plain": [
       "      An                             Titlu Organizatia  IMBD  AltRating  \\\n",
       "0   1978                          Superman          DC   7.3         95   \n",
       "1   1980                       Superman II          DC   6.7         88   \n",
       "3   1983                      Superman III          DC   4.9         24   \n",
       "4   1984                         Supergirl          DC   4.2          8   \n",
       "5   1986                   Howard the Duck      Marvel   4.3         16   \n",
       "6   1987  Superman IV: The Quest for Peace          DC   3.6         10   \n",
       "7   1989                            Batman          DC   7.6         71   \n",
       "10  1992                    Batman Returns          DC   7.0         78   \n",
       "\n",
       "    DataX  UnknownColumn  PretMediulaBilet  NrDeSpectatori  TopPentruAncutare  \n",
       "0    84.0      7465343.0              2.34    3.190318e+06          222584545  \n",
       "1    77.5     14100523.0              2.69    5.241830e+06          227224681  \n",
       "3    36.5     13352357.0              3.15    4.238843e+06          233791994  \n",
       "4    25.0      5738249.0              3.36    1.707812e+06          235824902  \n",
       "5    29.5      5070136.0              3.71    1.366613e+06          240132887  \n",
       "6    23.0      5683122.0              3.91    1.453484e+06          242288918  \n",
       "7    73.5     40489746.0              3.97    1.019893e+07          246819230  \n",
       "10   74.0     45687711.0              4.15    1.100909e+07          255029699  "
      ]
     },
     "execution_count": 3,
     "metadata": {},
     "output_type": "execute_result"
    }
   ],
   "source": [
    "new_csv = csv[np.isfinite(csv.UnknownColumn)].append(csv[np.isfinite(csv.NrDeSpectatori)])\n",
    "\n",
    "new_csv.head(8)"
   ]
  },
  {
   "cell_type": "markdown",
   "metadata": {},
   "source": [
    "vrem sa comparam coloanele imbd cu AltRating. pentru a face acest lucru trebuie sa normalizam datelele."
   ]
  },
  {
   "cell_type": "code",
   "execution_count": 4,
   "metadata": {},
   "outputs": [],
   "source": [
    "#Normalizam scorurile \n",
    "imbd_normalizat = new_csv.IMBD/10 #nota imbd din 10\n",
    "new_csv.insert(10, 'IMBD_normalizat', imbd_normalizat)"
   ]
  },
  {
   "cell_type": "code",
   "execution_count": 9,
   "metadata": {},
   "outputs": [],
   "source": [
    "altrating_normalizat = new_csv.AltRating/100 #scorul din 100\n",
    "new_csv.insert(10, 'altrating_normalizat', altrating_normalizat)"
   ]
  },
  {
   "cell_type": "code",
   "execution_count": 10,
   "metadata": {},
   "outputs": [
    {
     "data": {
      "text/html": [
       "<div>\n",
       "<style scoped>\n",
       "    .dataframe tbody tr th:only-of-type {\n",
       "        vertical-align: middle;\n",
       "    }\n",
       "\n",
       "    .dataframe tbody tr th {\n",
       "        vertical-align: top;\n",
       "    }\n",
       "\n",
       "    .dataframe thead th {\n",
       "        text-align: right;\n",
       "    }\n",
       "</style>\n",
       "<table border=\"1\" class=\"dataframe\">\n",
       "  <thead>\n",
       "    <tr style=\"text-align: right;\">\n",
       "      <th></th>\n",
       "      <th>An</th>\n",
       "      <th>Titlu</th>\n",
       "      <th>Organizatia</th>\n",
       "      <th>IMBD</th>\n",
       "      <th>AltRating</th>\n",
       "      <th>DataX</th>\n",
       "      <th>UnknownColumn</th>\n",
       "      <th>PretMediulaBilet</th>\n",
       "      <th>NrDeSpectatori</th>\n",
       "      <th>TopPentruAncutare</th>\n",
       "      <th>altrating_normalizat</th>\n",
       "      <th>IMBD_normalizat</th>\n",
       "    </tr>\n",
       "  </thead>\n",
       "  <tbody>\n",
       "    <tr>\n",
       "      <td>0</td>\n",
       "      <td>1978</td>\n",
       "      <td>Superman</td>\n",
       "      <td>DC</td>\n",
       "      <td>7.3</td>\n",
       "      <td>95</td>\n",
       "      <td>84.0</td>\n",
       "      <td>7465343.0</td>\n",
       "      <td>2.34</td>\n",
       "      <td>3190317.521</td>\n",
       "      <td>222584545</td>\n",
       "      <td>0.95</td>\n",
       "      <td>0.73</td>\n",
       "    </tr>\n",
       "    <tr>\n",
       "      <td>1</td>\n",
       "      <td>1980</td>\n",
       "      <td>Superman II</td>\n",
       "      <td>DC</td>\n",
       "      <td>6.7</td>\n",
       "      <td>88</td>\n",
       "      <td>77.5</td>\n",
       "      <td>14100523.0</td>\n",
       "      <td>2.69</td>\n",
       "      <td>5241830.112</td>\n",
       "      <td>227224681</td>\n",
       "      <td>0.88</td>\n",
       "      <td>0.67</td>\n",
       "    </tr>\n",
       "    <tr>\n",
       "      <td>3</td>\n",
       "      <td>1983</td>\n",
       "      <td>Superman III</td>\n",
       "      <td>DC</td>\n",
       "      <td>4.9</td>\n",
       "      <td>24</td>\n",
       "      <td>36.5</td>\n",
       "      <td>13352357.0</td>\n",
       "      <td>3.15</td>\n",
       "      <td>4238843.492</td>\n",
       "      <td>233791994</td>\n",
       "      <td>0.24</td>\n",
       "      <td>0.49</td>\n",
       "    </tr>\n",
       "    <tr>\n",
       "      <td>4</td>\n",
       "      <td>1984</td>\n",
       "      <td>Supergirl</td>\n",
       "      <td>DC</td>\n",
       "      <td>4.2</td>\n",
       "      <td>8</td>\n",
       "      <td>25.0</td>\n",
       "      <td>5738249.0</td>\n",
       "      <td>3.36</td>\n",
       "      <td>1707812.202</td>\n",
       "      <td>235824902</td>\n",
       "      <td>0.08</td>\n",
       "      <td>0.42</td>\n",
       "    </tr>\n",
       "    <tr>\n",
       "      <td>5</td>\n",
       "      <td>1986</td>\n",
       "      <td>Howard the Duck</td>\n",
       "      <td>Marvel</td>\n",
       "      <td>4.3</td>\n",
       "      <td>16</td>\n",
       "      <td>29.5</td>\n",
       "      <td>5070136.0</td>\n",
       "      <td>3.71</td>\n",
       "      <td>1366613.477</td>\n",
       "      <td>240132887</td>\n",
       "      <td>0.16</td>\n",
       "      <td>0.43</td>\n",
       "    </tr>\n",
       "  </tbody>\n",
       "</table>\n",
       "</div>"
      ],
      "text/plain": [
       "     An            Titlu Organizatia  IMBD  AltRating  DataX  UnknownColumn  \\\n",
       "0  1978         Superman          DC   7.3         95   84.0      7465343.0   \n",
       "1  1980      Superman II          DC   6.7         88   77.5     14100523.0   \n",
       "3  1983     Superman III          DC   4.9         24   36.5     13352357.0   \n",
       "4  1984        Supergirl          DC   4.2          8   25.0      5738249.0   \n",
       "5  1986  Howard the Duck      Marvel   4.3         16   29.5      5070136.0   \n",
       "\n",
       "   PretMediulaBilet  NrDeSpectatori  TopPentruAncutare  altrating_normalizat  \\\n",
       "0              2.34     3190317.521          222584545                  0.95   \n",
       "1              2.69     5241830.112          227224681                  0.88   \n",
       "3              3.15     4238843.492          233791994                  0.24   \n",
       "4              3.36     1707812.202          235824902                  0.08   \n",
       "5              3.71     1366613.477          240132887                  0.16   \n",
       "\n",
       "   IMBD_normalizat  \n",
       "0             0.73  \n",
       "1             0.67  \n",
       "3             0.49  \n",
       "4             0.42  \n",
       "5             0.43  "
      ]
     },
     "execution_count": 10,
     "metadata": {},
     "output_type": "execute_result"
    }
   ],
   "source": [
    "new_csv.head()"
   ]
  },
  {
   "cell_type": "markdown",
   "metadata": {},
   "source": [
    "### graficul, distributia si corelatii"
   ]
  },
  {
   "cell_type": "markdown",
   "metadata": {},
   "source": [
    "## Graficul"
   ]
  },
  {
   "cell_type": "code",
   "execution_count": 15,
   "metadata": {},
   "outputs": [
    {
     "data": {
      "text/plain": [
       "<matplotlib.axes._subplots.AxesSubplot at 0xa7c7c90>"
      ]
     },
     "execution_count": 15,
     "metadata": {},
     "output_type": "execute_result"
    },
    {
     "data": {
      "image/png": "[encoded data removed]",
      "text/plain": [
       "<Figure size 432x288 with 1 Axes>"
      ]
     },
     "metadata": {
      "needs_background": "light"
     },
     "output_type": "display_data"
    }
   ],
   "source": [
    "new_csv.plot.scatter(y = 'IMBD_normalizat', x = 'altrating_normalizat', color=\"Yellow\")"
   ]
  },
  {
   "cell_type": "markdown",
   "metadata": {},
   "source": [
    "## corelare"
   ]
  },
  {
   "cell_type": "markdown",
   "metadata": {},
   "source": [
    "Putem vedea  din grafic o corelatie pozitiva dintre date. Ar fi bine totusi sa va verificam cat de puternica este corelatia. Pandas ofera o metada numita corr() pentru a calcula corelatiile.\n",
    "Nu trebuie sa facem acest lucru pentru intreg DataFrame-ul, ci numai pentru coloanele in cauza."
   ]
  },
  {
   "cell_type": "code",
   "execution_count": 14,
   "metadata": {},
   "outputs": [
    {
     "ename": "KeyError",
     "evalue": "\"['AltRating_normalizat'] not in index\"",
     "output_type": "error",
     "traceback": [
      "\u001b[1;31m---------------------------------------------------------------------------\u001b[0m",
      "\u001b[1;31mKeyError\u001b[0m                                  Traceback (most recent call last)",
      "\u001b[1;32m<ipython-input-14-859a5d89ea8b>\u001b[0m in \u001b[0;36m<module>\u001b[1;34m\u001b[0m\n\u001b[1;32m----> 1\u001b[1;33m \u001b[0mnew_csv\u001b[0m\u001b[1;33m[\u001b[0m\u001b[1;33m[\u001b[0m\u001b[1;34m'IMBD_normalizat'\u001b[0m\u001b[1;33m,\u001b[0m \u001b[1;34m'AltRating_normalizat'\u001b[0m\u001b[1;33m]\u001b[0m\u001b[1;33m]\u001b[0m\u001b[1;33m.\u001b[0m\u001b[0mcorr\u001b[0m\u001b[1;33m(\u001b[0m\u001b[1;33m)\u001b[0m\u001b[1;33m\u001b[0m\u001b[1;33m\u001b[0m\u001b[0m\n\u001b[0m",
      "\u001b[1;32mc:\\users\\sky\\appdata\\local\\programs\\python\\python37-32\\lib\\site-packages\\pandas\\core\\frame.py\u001b[0m in \u001b[0;36m__getitem__\u001b[1;34m(self, key)\u001b[0m\n\u001b[0;32m   2984\u001b[0m             \u001b[1;32mif\u001b[0m \u001b[0mis_iterator\u001b[0m\u001b[1;33m(\u001b[0m\u001b[0mkey\u001b[0m\u001b[1;33m)\u001b[0m\u001b[1;33m:\u001b[0m\u001b[1;33m\u001b[0m\u001b[1;33m\u001b[0m\u001b[0m\n\u001b[0;32m   2985\u001b[0m                 \u001b[0mkey\u001b[0m \u001b[1;33m=\u001b[0m \u001b[0mlist\u001b[0m\u001b[1;33m(\u001b[0m\u001b[0mkey\u001b[0m\u001b[1;33m)\u001b[0m\u001b[1;33m\u001b[0m\u001b[1;33m\u001b[0m\u001b[0m\n\u001b[1;32m-> 2986\u001b[1;33m             \u001b[0mindexer\u001b[0m \u001b[1;33m=\u001b[0m \u001b[0mself\u001b[0m\u001b[1;33m.\u001b[0m\u001b[0mloc\u001b[0m\u001b[1;33m.\u001b[0m\u001b[0m_convert_to_indexer\u001b[0m\u001b[1;33m(\u001b[0m\u001b[0mkey\u001b[0m\u001b[1;33m,\u001b[0m \u001b[0maxis\u001b[0m\u001b[1;33m=\u001b[0m\u001b[1;36m1\u001b[0m\u001b[1;33m,\u001b[0m \u001b[0mraise_missing\u001b[0m\u001b[1;33m=\u001b[0m\u001b[1;32mTrue\u001b[0m\u001b[1;33m)\u001b[0m\u001b[1;33m\u001b[0m\u001b[1;33m\u001b[0m\u001b[0m\n\u001b[0m\u001b[0;32m   2987\u001b[0m \u001b[1;33m\u001b[0m\u001b[0m\n\u001b[0;32m   2988\u001b[0m         \u001b[1;31m# take() does not accept boolean indexers\u001b[0m\u001b[1;33m\u001b[0m\u001b[1;33m\u001b[0m\u001b[1;33m\u001b[0m\u001b[0m\n",
      "\u001b[1;32mc:\\users\\sky\\appdata\\local\\programs\\python\\python37-32\\lib\\site-packages\\pandas\\core\\indexing.py\u001b[0m in \u001b[0;36m_convert_to_indexer\u001b[1;34m(self, obj, axis, is_setter, raise_missing)\u001b[0m\n\u001b[0;32m   1283\u001b[0m                 \u001b[1;31m# When setting, missing keys are not allowed, even with .loc:\u001b[0m\u001b[1;33m\u001b[0m\u001b[1;33m\u001b[0m\u001b[1;33m\u001b[0m\u001b[0m\n\u001b[0;32m   1284\u001b[0m                 \u001b[0mkwargs\u001b[0m \u001b[1;33m=\u001b[0m \u001b[1;33m{\u001b[0m\u001b[1;34m\"raise_missing\"\u001b[0m\u001b[1;33m:\u001b[0m \u001b[1;32mTrue\u001b[0m \u001b[1;32mif\u001b[0m \u001b[0mis_setter\u001b[0m \u001b[1;32melse\u001b[0m \u001b[0mraise_missing\u001b[0m\u001b[1;33m}\u001b[0m\u001b[1;33m\u001b[0m\u001b[1;33m\u001b[0m\u001b[0m\n\u001b[1;32m-> 1285\u001b[1;33m                 \u001b[1;32mreturn\u001b[0m \u001b[0mself\u001b[0m\u001b[1;33m.\u001b[0m\u001b[0m_get_listlike_indexer\u001b[0m\u001b[1;33m(\u001b[0m\u001b[0mobj\u001b[0m\u001b[1;33m,\u001b[0m \u001b[0maxis\u001b[0m\u001b[1;33m,\u001b[0m \u001b[1;33m**\u001b[0m\u001b[0mkwargs\u001b[0m\u001b[1;33m)\u001b[0m\u001b[1;33m[\u001b[0m\u001b[1;36m1\u001b[0m\u001b[1;33m]\u001b[0m\u001b[1;33m\u001b[0m\u001b[1;33m\u001b[0m\u001b[0m\n\u001b[0m\u001b[0;32m   1286\u001b[0m         \u001b[1;32melse\u001b[0m\u001b[1;33m:\u001b[0m\u001b[1;33m\u001b[0m\u001b[1;33m\u001b[0m\u001b[0m\n\u001b[0;32m   1287\u001b[0m             \u001b[1;32mtry\u001b[0m\u001b[1;33m:\u001b[0m\u001b[1;33m\u001b[0m\u001b[1;33m\u001b[0m\u001b[0m\n",
      "\u001b[1;32mc:\\users\\sky\\appdata\\local\\programs\\python\\python37-32\\lib\\site-packages\\pandas\\core\\indexing.py\u001b[0m in \u001b[0;36m_get_listlike_indexer\u001b[1;34m(self, key, axis, raise_missing)\u001b[0m\n\u001b[0;32m   1090\u001b[0m \u001b[1;33m\u001b[0m\u001b[0m\n\u001b[0;32m   1091\u001b[0m         self._validate_read_indexer(\n\u001b[1;32m-> 1092\u001b[1;33m             \u001b[0mkeyarr\u001b[0m\u001b[1;33m,\u001b[0m \u001b[0mindexer\u001b[0m\u001b[1;33m,\u001b[0m \u001b[0mo\u001b[0m\u001b[1;33m.\u001b[0m\u001b[0m_get_axis_number\u001b[0m\u001b[1;33m(\u001b[0m\u001b[0maxis\u001b[0m\u001b[1;33m)\u001b[0m\u001b[1;33m,\u001b[0m \u001b[0mraise_missing\u001b[0m\u001b[1;33m=\u001b[0m\u001b[0mraise_missing\u001b[0m\u001b[1;33m\u001b[0m\u001b[1;33m\u001b[0m\u001b[0m\n\u001b[0m\u001b[0;32m   1093\u001b[0m         )\n\u001b[0;32m   1094\u001b[0m         \u001b[1;32mreturn\u001b[0m \u001b[0mkeyarr\u001b[0m\u001b[1;33m,\u001b[0m \u001b[0mindexer\u001b[0m\u001b[1;33m\u001b[0m\u001b[1;33m\u001b[0m\u001b[0m\n",
      "\u001b[1;32mc:\\users\\sky\\appdata\\local\\programs\\python\\python37-32\\lib\\site-packages\\pandas\\core\\indexing.py\u001b[0m in \u001b[0;36m_validate_read_indexer\u001b[1;34m(self, key, indexer, axis, raise_missing)\u001b[0m\n\u001b[0;32m   1183\u001b[0m             \u001b[1;32mif\u001b[0m \u001b[1;32mnot\u001b[0m \u001b[1;33m(\u001b[0m\u001b[0mself\u001b[0m\u001b[1;33m.\u001b[0m\u001b[0mname\u001b[0m \u001b[1;33m==\u001b[0m \u001b[1;34m\"loc\"\u001b[0m \u001b[1;32mand\u001b[0m \u001b[1;32mnot\u001b[0m \u001b[0mraise_missing\u001b[0m\u001b[1;33m)\u001b[0m\u001b[1;33m:\u001b[0m\u001b[1;33m\u001b[0m\u001b[1;33m\u001b[0m\u001b[0m\n\u001b[0;32m   1184\u001b[0m                 \u001b[0mnot_found\u001b[0m \u001b[1;33m=\u001b[0m \u001b[0mlist\u001b[0m\u001b[1;33m(\u001b[0m\u001b[0mset\u001b[0m\u001b[1;33m(\u001b[0m\u001b[0mkey\u001b[0m\u001b[1;33m)\u001b[0m \u001b[1;33m-\u001b[0m \u001b[0mset\u001b[0m\u001b[1;33m(\u001b[0m\u001b[0max\u001b[0m\u001b[1;33m)\u001b[0m\u001b[1;33m)\u001b[0m\u001b[1;33m\u001b[0m\u001b[1;33m\u001b[0m\u001b[0m\n\u001b[1;32m-> 1185\u001b[1;33m                 \u001b[1;32mraise\u001b[0m \u001b[0mKeyError\u001b[0m\u001b[1;33m(\u001b[0m\u001b[1;34m\"{} not in index\"\u001b[0m\u001b[1;33m.\u001b[0m\u001b[0mformat\u001b[0m\u001b[1;33m(\u001b[0m\u001b[0mnot_found\u001b[0m\u001b[1;33m)\u001b[0m\u001b[1;33m)\u001b[0m\u001b[1;33m\u001b[0m\u001b[1;33m\u001b[0m\u001b[0m\n\u001b[0m\u001b[0;32m   1186\u001b[0m \u001b[1;33m\u001b[0m\u001b[0m\n\u001b[0;32m   1187\u001b[0m             \u001b[1;31m# we skip the warning on Categorical/Interval\u001b[0m\u001b[1;33m\u001b[0m\u001b[1;33m\u001b[0m\u001b[1;33m\u001b[0m\u001b[0m\n",
      "\u001b[1;31mKeyError\u001b[0m: \"['AltRating_normalizat'] not in index\""
     ]
    }
   ],
   "source": [
    "new_csv[['IMBD_normalizat', 'AltRating_normalizat']].corr()"
   ]
  },
  {
   "cell_type": "markdown",
   "metadata": {},
   "source": [
    "Am obtinut matricea de corelare. Corelarea este 0.888, una foarte buna. Similaritatea dintre note este foarte mare. "
   ]
  },
  {
   "cell_type": "markdown",
   "metadata": {},
   "source": [
    "## Descrierea coloanelor"
   ]
  },
  {
   "cell_type": "markdown",
   "metadata": {},
   "source": [
    "Utilizand fucntia describe() din pandas putem afla informatie despre fiecare coloana in parte, precum media, devierea de la standard, etc."
   ]
  },
  {
   "cell_type": "code",
   "execution_count": 35,
   "metadata": {},
   "outputs": [
    {
     "data": {
      "text/html": [
       "<div>\n",
       "<style scoped>\n",
       "    .dataframe tbody tr th:only-of-type {\n",
       "        vertical-align: middle;\n",
       "    }\n",
       "\n",
       "    .dataframe tbody tr th {\n",
       "        vertical-align: top;\n",
       "    }\n",
       "\n",
       "    .dataframe thead th {\n",
       "        text-align: right;\n",
       "    }\n",
       "</style>\n",
       "<table border=\"1\" class=\"dataframe\">\n",
       "  <thead>\n",
       "    <tr style=\"text-align: right;\">\n",
       "      <th></th>\n",
       "      <th>IMBD_normalizat</th>\n",
       "      <th>AltRating_normalizat</th>\n",
       "    </tr>\n",
       "  </thead>\n",
       "  <tbody>\n",
       "    <tr>\n",
       "      <th>count</th>\n",
       "      <td>92.000000</td>\n",
       "      <td>92.000000</td>\n",
       "    </tr>\n",
       "    <tr>\n",
       "      <th>mean</th>\n",
       "      <td>0.630000</td>\n",
       "      <td>0.539783</td>\n",
       "    </tr>\n",
       "    <tr>\n",
       "      <th>std</th>\n",
       "      <td>0.152056</td>\n",
       "      <td>0.300465</td>\n",
       "    </tr>\n",
       "    <tr>\n",
       "      <th>min</th>\n",
       "      <td>0.270000</td>\n",
       "      <td>0.080000</td>\n",
       "    </tr>\n",
       "    <tr>\n",
       "      <th>25%</th>\n",
       "      <td>0.540000</td>\n",
       "      <td>0.260000</td>\n",
       "    </tr>\n",
       "    <tr>\n",
       "      <th>50%</th>\n",
       "      <td>0.665000</td>\n",
       "      <td>0.605000</td>\n",
       "    </tr>\n",
       "    <tr>\n",
       "      <th>75%</th>\n",
       "      <td>0.740000</td>\n",
       "      <td>0.820000</td>\n",
       "    </tr>\n",
       "    <tr>\n",
       "      <th>max</th>\n",
       "      <td>0.910000</td>\n",
       "      <td>0.950000</td>\n",
       "    </tr>\n",
       "  </tbody>\n",
       "</table>\n",
       "</div>"
      ],
      "text/plain": [
       "       IMBD_normalizat  AltRating_normalizat\n",
       "count        92.000000             92.000000\n",
       "mean          0.630000              0.539783\n",
       "std           0.152056              0.300465\n",
       "min           0.270000              0.080000\n",
       "25%           0.540000              0.260000\n",
       "50%           0.665000              0.605000\n",
       "75%           0.740000              0.820000\n",
       "max           0.910000              0.950000"
      ]
     },
     "execution_count": 35,
     "metadata": {},
     "output_type": "execute_result"
    }
   ],
   "source": [
    "new_csv[['IMBD_normalizat', 'AltRating_normalizat']].describe()"
   ]
  },
  {
   "cell_type": "markdown",
   "metadata": {},
   "source": [
    "## Linia de tendita / trend"
   ]
  },
  {
   "cell_type": "code",
   "execution_count": 36,
   "metadata": {
    "scrolled": true
   },
   "outputs": [
    {
     "data": {
      "text/plain": [
       "<matplotlib.axes._subplots.AxesSubplot at 0x9ff2710>"
      ]
     },
     "execution_count": 36,
     "metadata": {},
     "output_type": "execute_result"
    },
    {
     "data": {
      "image/png": "[encoded data removed]",
      "text/plain": [
       "<Figure size 432x288 with 1 Axes>"
      ]
     },
     "metadata": {
      "needs_background": "light"
     },
     "output_type": "display_data"
    }
   ],
   "source": [
    "plot = new_csv.plot.scatter(x = 'An', y = 'PretMediulaBilet')\n",
    "z = np.polyfit(x=new_csv.An, y=new_csv.PretMediulaBilet, deg=5) #polinom de gradul 5 inseamna deg=5\n",
    "p = np.poly1d(z)\n",
    "trendline = pd.DataFrame(data=p(new_csv.An), index=new_csv.An)\n",
    "trendline.plot.line(ax=plot, color='Yellow')"
   ]
  },
  {
   "cell_type": "markdown",
   "metadata": {},
   "source": [
    "De realizat:\n",
    "1. Definiti o serie pandas.\n",
    "2. Definiti un dataframe in pandas.\n",
    "3. Cum veti afisa numai filmele de la DC pentru DataFrame-ul new_csv?\n",
    "4. Cum veti afisa numai anul si titlu pentru filmele de la  Marvel?\n",
    "5. Desenati graficul pentru PretulMediuLaBilet cu Anul pe axa y. Culoarea liniei sa fie neagra."
   ]
  },
  {
   "cell_type": "code",
   "execution_count": 17,
   "metadata": {},
   "outputs": [
    {
     "data": {
      "text/plain": [
       "pandas.core.series.Series"
      ]
     },
     "execution_count": 17,
     "metadata": {},
     "output_type": "execute_result"
    }
   ],
   "source": [
    "dataserie = new_csv['IMBD']\n",
    "type(dataserie)"
   ]
  },
  {
   "cell_type": "code",
   "execution_count": 20,
   "metadata": {
    "scrolled": true
   },
   "outputs": [
    {
     "data": {
      "text/plain": [
       "pandas.core.frame.DataFrame"
      ]
     },
     "execution_count": 20,
     "metadata": {},
     "output_type": "execute_result"
    }
   ],
   "source": [
    "dataframe = new_csv[['IMBD', 'IMBD_normalizat']]\n",
    "type(dataframe)"
   ]
  },
  {
   "cell_type": "code",
   "execution_count": 28,
   "metadata": {},
   "outputs": [
    {
     "data": {
      "text/html": [
       "<div>\n",
       "<style scoped>\n",
       "    .dataframe tbody tr th:only-of-type {\n",
       "        vertical-align: middle;\n",
       "    }\n",
       "\n",
       "    .dataframe tbody tr th {\n",
       "        vertical-align: top;\n",
       "    }\n",
       "\n",
       "    .dataframe thead th {\n",
       "        text-align: right;\n",
       "    }\n",
       "</style>\n",
       "<table border=\"1\" class=\"dataframe\">\n",
       "  <thead>\n",
       "    <tr style=\"text-align: right;\">\n",
       "      <th></th>\n",
       "      <th>An</th>\n",
       "    </tr>\n",
       "  </thead>\n",
       "  <tbody>\n",
       "    <tr>\n",
       "      <td>count</td>\n",
       "      <td>56.000000</td>\n",
       "    </tr>\n",
       "    <tr>\n",
       "      <td>mean</td>\n",
       "      <td>2005.642857</td>\n",
       "    </tr>\n",
       "    <tr>\n",
       "      <td>std</td>\n",
       "      <td>5.368015</td>\n",
       "    </tr>\n",
       "    <tr>\n",
       "      <td>min</td>\n",
       "      <td>1986.000000</td>\n",
       "    </tr>\n",
       "    <tr>\n",
       "      <td>25%</td>\n",
       "      <td>2003.000000</td>\n",
       "    </tr>\n",
       "    <tr>\n",
       "      <td>50%</td>\n",
       "      <td>2006.500000</td>\n",
       "    </tr>\n",
       "    <tr>\n",
       "      <td>75%</td>\n",
       "      <td>2009.250000</td>\n",
       "    </tr>\n",
       "    <tr>\n",
       "      <td>max</td>\n",
       "      <td>2012.000000</td>\n",
       "    </tr>\n",
       "  </tbody>\n",
       "</table>\n",
       "</div>"
      ],
      "text/plain": [
       "                An\n",
       "count    56.000000\n",
       "mean   2005.642857\n",
       "std       5.368015\n",
       "min    1986.000000\n",
       "25%    2003.000000\n",
       "50%    2006.500000\n",
       "75%    2009.250000\n",
       "max    2012.000000"
      ]
     },
     "execution_count": 28,
     "metadata": {},
     "output_type": "execute_result"
    }
   ],
   "source": [
    "marvel = new_csv[new_csv['Organizatia'] == 'Marvel'][['Titlu', 'An']]\n",
    "marvel.p"
   ]
  },
  {
   "cell_type": "code",
   "execution_count": 26,
   "metadata": {},
   "outputs": [
    {
     "data": {
      "text/plain": [
       "<matplotlib.axes._subplots.AxesSubplot at 0xa7d3a30>"
      ]
     },
     "execution_count": 26,
     "metadata": {},
     "output_type": "execute_result"
    },
    {
     "data": {
      "image/png": "[encoded data removed]",
      "text/plain": [
       "<Figure size 432x288 with 1 Axes>"
      ]
     },
     "metadata": {
      "needs_background": "light"
     },
     "output_type": "display_data"
    }
   ],
   "source": [
    "plot = new_csv.plot.scatter(x = 'An', y = 'PretMediulaBilet')\n",
    "z = np.polyfit(x=new_csv.An, y=new_csv.PretMediulaBilet, deg=5) #polinom de gradul 5 inseamna deg=5\n",
    "p = np.poly1d(z)\n",
    "trendline = pd.DataFrame(data=p(new_csv.An), index=new_csv.An)\n",
    "trendline.plot.line(ax=plot, color='Black')"
   ]
  },
  {
   "cell_type": "markdown",
   "metadata": {},
   "source": [
    "## Nicoara Dorin"
   ]
  }
 ],
 "metadata": {
  "kernelspec": {
   "display_name": "Python 3",
   "language": "python",
   "name": "python3"
  },
  "language_info": {
   "codemirror_mode": {
    "name": "ipython",
    "version": 3
   },
   "file_extension": ".py",
   "mimetype": "text/x-python",
   "name": "python",
   "nbconvert_exporter": "python",
   "pygments_lexer": "ipython3",
   "version": "3.7.4"
  }
 },
 "nbformat": 4,
 "nbformat_minor": 2
}
