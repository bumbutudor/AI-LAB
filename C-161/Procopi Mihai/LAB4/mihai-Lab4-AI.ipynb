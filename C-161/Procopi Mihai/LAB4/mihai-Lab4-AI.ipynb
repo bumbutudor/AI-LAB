{
 "cells": [
  {
   "cell_type": "markdown",
   "metadata": {},
   "source": [
    "# Arborele de decizie"
   ]
  },
  {
   "cell_type": "markdown",
   "metadata": {},
   "source": [
    "### Importăm librăriile necesare"
   ]
  },
  {
   "cell_type": "code",
   "execution_count": 1,
   "metadata": {},
   "outputs": [],
   "source": [
    "# Încărcarea librăriilor\n",
    "import pandas as pd # Dataframe-ul și series-ul nostru\n",
    "from sklearn.tree import DecisionTreeClassifier # Importăm Clasificatorul „Arborele decizional”\n",
    "from sklearn.model_selection import train_test_split # Importăm funcția de separare a datelor în date de antrenare și date de testare\n",
    "from sklearn import metrics #Importăm modulel metrici pentru caluclarea acurateții"
   ]
  },
  {
   "cell_type": "markdown",
   "metadata": {},
   "source": [
    "### Importăm setul de date\n"
   ]
  },
  {
   "cell_type": "markdown",
   "metadata": {},
   "source": [
    "Eu voi lucra cu data set-ul Breast Cancer\n",
    "Labels:\n",
    "1=Healthy controls\n",
    "2=Patients"
   ]
  },
  {
   "cell_type": "code",
   "execution_count": 2,
   "metadata": {
    "scrolled": false
   },
   "outputs": [],
   "source": [
    "# încărcarea setului de date\n",
    "BC = pd.read_csv(\"my_dataset2.csv\")\n",
    "#BC.iloc[14]"
   ]
  },
  {
   "cell_type": "code",
   "execution_count": 3,
   "metadata": {},
   "outputs": [],
   "source": [
    "#despărțim datasetul în vector de caracteristici (features) și vectorul clasă\n",
    "features = [ 'loading','idle','cup','busy','disk']\n",
    "X = BC[features] # caracteristicile (atributele pentru X)\n",
    "y = BC.disk # Variabila clasă (independentă dacă facem analogie cu regresia)"
   ]
  },
  {
   "cell_type": "markdown",
   "metadata": {},
   "source": [
    "### Împărțirea setului de date\n",
    "Pentru a evalua performanța modelului o strategie ar fie împărțirea setului de date în: date de antrenare/învățare și date pentru testare/evaluare.\n",
    "\n",
    "Putem face acest lucru utilizând funcția train_test_split(). Funcția ia 3 parametri: caracteristicile, clasa și lungimea setului de date pentru testare."
   ]
  },
  {
   "cell_type": "code",
   "execution_count": 4,
   "metadata": {},
   "outputs": [
    {
     "data": {
      "text/html": [
       "<div>\n",
       "<style scoped>\n",
       "    .dataframe tbody tr th:only-of-type {\n",
       "        vertical-align: middle;\n",
       "    }\n",
       "\n",
       "    .dataframe tbody tr th {\n",
       "        vertical-align: top;\n",
       "    }\n",
       "\n",
       "    .dataframe thead th {\n",
       "        text-align: right;\n",
       "    }\n",
       "</style>\n",
       "<table border=\"1\" class=\"dataframe\">\n",
       "  <thead>\n",
       "    <tr style=\"text-align: right;\">\n",
       "      <th></th>\n",
       "      <th>loading</th>\n",
       "      <th>idle</th>\n",
       "      <th>cup</th>\n",
       "      <th>busy</th>\n",
       "      <th>disk</th>\n",
       "    </tr>\n",
       "  </thead>\n",
       "  <tbody>\n",
       "    <tr>\n",
       "      <th>3</th>\n",
       "      <td>50</td>\n",
       "      <td>80</td>\n",
       "      <td>30</td>\n",
       "      <td>0</td>\n",
       "      <td>1</td>\n",
       "    </tr>\n",
       "    <tr>\n",
       "      <th>7</th>\n",
       "      <td>90</td>\n",
       "      <td>20</td>\n",
       "      <td>30</td>\n",
       "      <td>0</td>\n",
       "      <td>1</td>\n",
       "    </tr>\n",
       "    <tr>\n",
       "      <th>6</th>\n",
       "      <td>90</td>\n",
       "      <td>50</td>\n",
       "      <td>30</td>\n",
       "      <td>1</td>\n",
       "      <td>0</td>\n",
       "    </tr>\n",
       "    <tr>\n",
       "      <th>2</th>\n",
       "      <td>50</td>\n",
       "      <td>20</td>\n",
       "      <td>80</td>\n",
       "      <td>1</td>\n",
       "      <td>1</td>\n",
       "    </tr>\n",
       "    <tr>\n",
       "      <th>10</th>\n",
       "      <td>20</td>\n",
       "      <td>80</td>\n",
       "      <td>80</td>\n",
       "      <td>1</td>\n",
       "      <td>0</td>\n",
       "    </tr>\n",
       "  </tbody>\n",
       "</table>\n",
       "</div>"
      ],
      "text/plain": [
       "    loading  idle  cup  busy  disk\n",
       "3        50    80   30     0     1\n",
       "7        90    20   30     0     1\n",
       "6        90    50   30     1     0\n",
       "2        50    20   80     1     1\n",
       "10       20    80   80     1     0"
      ]
     },
     "execution_count": 4,
     "metadata": {},
     "output_type": "execute_result"
    }
   ],
   "source": [
    "# Împărțim setul de date în train set și test set\n",
    "X_train, X_test, y_train, y_test = train_test_split(X, y, test_size=0.3, random_state=1) # 70% pentru antrenare and 30% testare\n",
    "X_test"
   ]
  },
  {
   "cell_type": "markdown",
   "metadata": {},
   "source": [
    "### Construirea modelului"
   ]
  },
  {
   "cell_type": "code",
   "execution_count": 5,
   "metadata": {},
   "outputs": [],
   "source": [
    "# Crearea obiectului de clasificare pe bază de arbore de decizie cu parametru criterie\n",
    "clasificator = DecisionTreeClassifier(criterion=\"entropy\")\n",
    "\n",
    "# Antrenarea clasificatorului cu datele noastre utilizând metoda fit() și ca parametru avem datele de antrenare\n",
    "clasificator_arbore_decizie = clasificator.fit(X_train,y_train)"
   ]
  },
  {
   "cell_type": "markdown",
   "metadata": {},
   "source": [
    "### Evaluarea modelului"
   ]
  },
  {
   "cell_type": "code",
   "execution_count": 6,
   "metadata": {
    "scrolled": false
   },
   "outputs": [
    {
     "name": "stdout",
     "output_type": "stream",
     "text": [
      "Accuracy: 1.0\n",
      "3     1\n",
      "7     1\n",
      "6     0\n",
      "2     1\n",
      "10    0\n",
      "Name: disk, dtype: int64 [1 1 0 1 0]\n"
     ]
    }
   ],
   "source": [
    "#Prezice clasele pentru setul de testare utilizând metoda predict(parametru_setu_de_testare)\n",
    "y_prezis = clasificator_arbore_decizie.predict(X_test)\n",
    "\n",
    "\n",
    "# Model Accuracy, how often is the classifier correct?\n",
    "print(\"Accuracy:\",metrics.accuracy_score(y_test, y_prezis))\n",
    "print(y_test, y_prezis)"
   ]
  },
  {
   "cell_type": "code",
   "execution_count": 7,
   "metadata": {},
   "outputs": [
    {
     "name": "stdout",
     "output_type": "stream",
     "text": [
      "[1]\n"
     ]
    }
   ],
   "source": [
    "obiect_nou = [[45,29.38475666,90,4.713,1.046286]]\n",
    "\n",
    "raspuns=clasificator_arbore_decizie.predict(obiect_nou)\n",
    "\n",
    "print(raspuns)"
   ]
  },
  {
   "cell_type": "markdown",
   "metadata": {},
   "source": [
    "### Vizualizarea arborelui"
   ]
  },
  {
   "cell_type": "markdown",
   "metadata": {},
   "source": [
    "Puteți folosi funcția export_graphviz din Scikit-learn pentru a afișa arborele în Jupyter Notebook. Pentru a face diagram de asemenea este nevoie de biblioteca pudotplus.\n",
    "Pentru instalarea clasică:\n",
    "\n",
    "- pip install graphviz\n",
    "\n",
    "- pip install pydotplus\n",
    "\n",
    "funcția export_graphviz transformă clasificatorul nostru intr-un fișier cu puncte, iar pydotplus convertește aceste puncte într-un fișier png."
   ]
  },
  {
   "cell_type": "code",
   "execution_count": 8,
   "metadata": {},
   "outputs": [
    {
     "name": "stderr",
     "output_type": "stream",
     "text": [
      "c:\\users\\home\\desktop\\ai-python\\lab2\\env\\lib\\site-packages\\sklearn\\externals\\six.py:31: DeprecationWarning: The module is deprecated in version 0.21 and will be removed in version 0.23 since we've dropped support for Python 2.7. Please rely on the official version of six (https://pypi.org/project/six/).\n",
      "  \"(https://pypi.org/project/six/).\", DeprecationWarning)\n"
     ]
    },
    {
     "ename": "ModuleNotFoundError",
     "evalue": "No module named 'pydotplus'",
     "output_type": "error",
     "traceback": [
      "\u001b[1;31m---------------------------------------------------------------------------\u001b[0m",
      "\u001b[1;31mModuleNotFoundError\u001b[0m                       Traceback (most recent call last)",
      "\u001b[1;32m<ipython-input-8-2560093d3401>\u001b[0m in \u001b[0;36m<module>\u001b[1;34m\u001b[0m\n\u001b[0;32m      2\u001b[0m \u001b[1;32mfrom\u001b[0m \u001b[0mIPython\u001b[0m\u001b[1;33m.\u001b[0m\u001b[0mdisplay\u001b[0m \u001b[1;32mimport\u001b[0m \u001b[0mImage\u001b[0m\u001b[1;33m\u001b[0m\u001b[1;33m\u001b[0m\u001b[0m\n\u001b[0;32m      3\u001b[0m \u001b[1;32mfrom\u001b[0m \u001b[0msklearn\u001b[0m\u001b[1;33m.\u001b[0m\u001b[0mtree\u001b[0m \u001b[1;32mimport\u001b[0m \u001b[0mexport_graphviz\u001b[0m\u001b[1;33m\u001b[0m\u001b[1;33m\u001b[0m\u001b[0m\n\u001b[1;32m----> 4\u001b[1;33m \u001b[1;32mimport\u001b[0m \u001b[0mpydotplus\u001b[0m\u001b[1;33m\u001b[0m\u001b[1;33m\u001b[0m\u001b[0m\n\u001b[0m",
      "\u001b[1;31mModuleNotFoundError\u001b[0m: No module named 'pydotplus'"
     ]
    }
   ],
   "source": [
    "from sklearn.externals.six import StringIO  \n",
    "from IPython.display import Image  \n",
    "from sklearn.tree import export_graphviz\n",
    "import pydotplus\n"
   ]
  },
  {
   "cell_type": "code",
   "execution_count": null,
   "metadata": {},
   "outputs": [],
   "source": [
    "dot_data = StringIO()\n",
    "export_graphviz(clasificator_arbore_decizie, out_file=dot_data,  \n",
    "                filled=True, rounded=True,\n",
    "                special_characters=True, feature_names = features,class_names=['0','1'])\n",
    "graph = pydotplus.graph_from_dot_data(dot_data.getvalue())  \n"
   ]
  },
  {
   "cell_type": "code",
   "execution_count": null,
   "metadata": {},
   "outputs": [],
   "source": [
    "graph.write_png('weather.png')\n",
    "Image(graph.create_png())"
   ]
  },
  {
   "cell_type": "markdown",
   "metadata": {},
   "source": [
    "Concluzii :\n",
    "Pentru lucrarea de laborator numarul 4 am ales un dataset despre datele unui procesor in diferite situatii.\n",
    "\n",
    "Pentru a evalua performanța modelului am împărțit setul de date în: date de antrenare/învățare 70% și date pentru testare/evaluare 30%.\n",
    "\n",
    "Putem spune ca rezultatele obtinute sunt foarte bune, deoarece am obtinut \n",
    "Acuratetea egala 1 ceea ce inseamna ca putem spune cu o aproximare maximala in ca daca este calculatorul incarcat sau nu."
   ]
  }
 ],
 "metadata": {
  "kernelspec": {
   "display_name": "Python 3",
   "language": "python",
   "name": "python3"
  },
  "language_info": {
   "codemirror_mode": {
    "name": "ipython",
    "version": 3
   },
   "file_extension": ".py",
   "mimetype": "text/x-python",
   "name": "python",
   "nbconvert_exporter": "python",
   "pygments_lexer": "ipython3",
   "version": "3.7.3"
  }
 },
 "nbformat": 4,
 "nbformat_minor": 2
}
