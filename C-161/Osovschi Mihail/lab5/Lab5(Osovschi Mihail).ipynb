{
 "cells": [
  {
   "cell_type": "markdown",
   "metadata": {},
   "source": [
    "# Algoritmul K Nearest Neighbors"
   ]
  },
  {
   "cell_type": "markdown",
   "metadata": {},
   "source": [
    "Sarcina\n",
    "Scrieți un program Python folosind Scikit-learn. Împărțiți setul de date 'iris.csv' (path dataset/iris.csv) în 70% date de antrenare și 30% date de testare. Din totalul de 150 de înregistrări, setul de antrenare va conține 105 înregistrări, iar setul de testare va conține 45 dintre aceste înregistrări. Presupuneți răspunsul corect pentru setul de date de testare care are urmatoarele artibute ('sepal_length', 'sepal_width', 'petal_length', 'petal_width') folosind algoritmul k-Nearest Neighbors. Utilizați k = 5 (număr de vecini).\n",
    "\n",
    "Referinte: https://www.datacamp.com/community/tutorials/k-nearest-neighbor-classification-scikit-learn\n",
    "\n",
    "Solutie: http://81.180.84.246:8888/notebooks/AI-LAB/Lab%205/lab_5_solutie.ipynb\n",
    "\n",
    "Parola: HDOHP cifrata cu paternul (alfabet: 'abcdefghijklmnopqrstuvwxy' -> alfabet cifrat: '??qgiumeaylnof?xjkrcvstzwb')"
   ]
  },
  {
   "cell_type": "code",
   "execution_count": 1,
   "metadata": {},
   "outputs": [
    {
     "name": "stdout",
     "output_type": "stream",
     "text": [
      "Raspunsurile date de model:\n",
      "['virginica' 'setosa' 'setosa' 'setosa' 'virginica' 'virginica' 'setosa'\n",
      " 'versicolor' 'setosa' 'setosa' 'versicolor' 'virginica' 'setosa'\n",
      " 'versicolor' 'virginica' 'virginica' 'virginica' 'versicolor' 'setosa'\n",
      " 'versicolor' 'setosa' 'versicolor' 'virginica' 'setosa' 'setosa' 'setosa'\n",
      " 'virginica' 'setosa' 'setosa' 'setosa' 'virginica' 'setosa' 'versicolor'\n",
      " 'setosa' 'virginica' 'setosa' 'setosa' 'setosa' 'versicolor' 'versicolor'\n",
      " 'virginica' 'setosa' 'virginica' 'versicolor' 'versicolor']\n"
     ]
    }
   ],
   "source": [
    "import pandas as pd\n",
    "from sklearn.model_selection import train_test_split\n",
    "from sklearn.neighbors import KNeighborsClassifier\n",
    "#incarcam setul de date\n",
    "iris = pd.read_csv(\"iris.csv\")\n",
    "#despărțim datasetul în vector de caracteristici (features) și vectorul clasă\n",
    "features = ['sepal_length', 'sepal_width', 'petal_length', 'petal_width']\n",
    "X = iris[features] # caracteristicile (atributele pentru X)\n",
    "y = iris.species # caracteristica clasă\n",
    "#impartim setul de date integral in date de antranare si date de testare utilizand functia train_test_split\n",
    "X_train, X_test, y_train, y_test = train_test_split(X, y, test_size=0.30)\n",
    "'''\n",
    "print(\"\\n70% Antrenare:\")\n",
    "print(X_train)\n",
    "print(y_train)\n",
    "print(\"\\n30% Testare:\")\n",
    "print(X_test)\n",
    "print(y_test)\n",
    "'''\n",
    "#cream clasificatorul k-nn\n",
    "#setam numarul de vecini ca parametru explicit\n",
    "knn = KNeighborsClassifier(n_neighbors=5)\n",
    "#antrenam modelul utilizand setul de date de antrenare\n",
    "knn.fit(X_train, y_train)\n",
    "#prezicem raspunsul corect pentru setul de destare\n",
    "print(\"Raspunsurile date de model:\")\n",
    "y_pred = knn.predict(X_test)\n",
    "print(y_pred)"
   ]
  },
  {
   "cell_type": "markdown",
   "metadata": {},
   "source": [
    "Concluzie: După realizarea lucrării de laborator, a fost realizat un program Python care oferă posibilitatea folosirii unui set de date pe care le separăm într-un set de date pentru ”Antrenare” și într-un set de date pentru ”Testare”, după care precizăm răspunsul corect pentru setul de ”Testare”."
   ]
  }
 ],
 "metadata": {
  "kernelspec": {
   "display_name": "Python 3",
   "language": "python",
   "name": "python3"
  },
  "language_info": {
   "codemirror_mode": {
    "name": "ipython",
    "version": 3
   },
   "file_extension": ".py",
   "mimetype": "text/x-python",
   "name": "python",
   "nbconvert_exporter": "python",
   "pygments_lexer": "ipython3",
   "version": "3.7.4"
  }
 },
 "nbformat": 4,
 "nbformat_minor": 2
}
