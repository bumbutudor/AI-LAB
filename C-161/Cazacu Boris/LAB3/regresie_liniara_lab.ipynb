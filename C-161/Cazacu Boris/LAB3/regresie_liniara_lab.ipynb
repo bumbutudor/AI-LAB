{
 "cells": [
  {
   "cell_type": "markdown",
   "metadata": {},
   "source": [
    "# Laborator 3. Regresia Liniara in Python utilizand Pandas si Scikit-Learn\n"
   ]
  },
  {
   "cell_type": "markdown",
   "metadata": {},
   "source": [
    "## Cuprins\n",
    "\n",
    "1. Selectarea setului de date si .\n",
    "2. Importarea bibliotecilor si setului de date.\n",
    "3. Studierea setului de date.\n",
    "4. Setarea problemei si Pregatirea setului de date pentru antrenare.<br>\n",
    "   a. Divizare in set de date pentru antrenare si set de date pentru testare. <br>\n",
    "   b. Utilizarea k-folds cross validation pentru testare.\n",
    "5. Initializarea modelului de regresie liniara si aplicarea acestuia pe datele noastre.\n",
    "6. Concluzii."
   ]
  },
  {
   "cell_type": "markdown",
   "metadata": {},
   "source": [
    "## Selectarea setului de date\n",
    "1. Setul de date il veti alege de sine stator din urmatoarele repositorii (important este ca setul de date sa fie compatibil cu rezolvarea problemei de regresie liniara):<br>\n",
    "   a. https://archive.ics.uci.edu/ml/datasets.php?format=&task=&att=&area=&numAtt=&numIns=&type=&sort=taskDown&view=table <br>\n",
    "   b. https://www.kaggle.com/rtatman/datasets-for-regression-analysis <br>\n",
    "   c. https://data.world/datasets/regression <br>\n",
    "   d. https://www.kdnuggets.com/datasets/index.html\n",
    "2. Creati un fisier de tip jupyter notebook in aceeasi mapa.\n",
    "\n",
    "### Cei care nu-si gasesc nimic potrivit pot folosi acelasi dataset folosit anterior (lab. 2).\n",
    "### Exemplul va fi pe datasetul utilizat in lab. 2.\n",
    "   "
   ]
  },
  {
   "cell_type": "markdown",
   "metadata": {},
   "source": [
    "## Importarea bibliotecilor si setului de date"
   ]
  },
  {
   "cell_type": "code",
   "execution_count": 91,
   "metadata": {},
   "outputs": [],
   "source": [
    "import pandas as pd\n",
    "import numpy as np\n",
    "from scipy import stats\n",
    "from sklearn import preprocessing\n",
    "from sklearn.model_selection import KFold\n",
    "from sklearn.linear_model import LinearRegression\n",
    "import matplotlib.pyplot as plt\n",
    "%matplotlib inline"
   ]
  },
  {
   "cell_type": "markdown",
   "metadata": {},
   "source": [
    "incarcam fisierul .csv intr-un dataframe |\n",
    "daca la voi nu e csv, incercati mai intai sa-l transformati in csv\n"
   ]
  },
  {
   "cell_type": "code",
   "execution_count": 92,
   "metadata": {
    "scrolled": true
   },
   "outputs": [
    {
     "data": {
      "text/html": [
       "<div>\n",
       "<style scoped>\n",
       "    .dataframe tbody tr th:only-of-type {\n",
       "        vertical-align: middle;\n",
       "    }\n",
       "\n",
       "    .dataframe tbody tr th {\n",
       "        vertical-align: top;\n",
       "    }\n",
       "\n",
       "    .dataframe thead th {\n",
       "        text-align: right;\n",
       "    }\n",
       "</style>\n",
       "<table border=\"1\" class=\"dataframe\">\n",
       "  <thead>\n",
       "    <tr style=\"text-align: right;\">\n",
       "      <th></th>\n",
       "      <th>TPSA</th>\n",
       "      <th>SAacc</th>\n",
       "      <th>H-050</th>\n",
       "      <th>MLOGP</th>\n",
       "      <th>RDCHI</th>\n",
       "      <th>GATS1p</th>\n",
       "      <th>nN</th>\n",
       "      <th>C-040</th>\n",
       "      <th>quantitativeResponse</th>\n",
       "    </tr>\n",
       "  </thead>\n",
       "  <tbody>\n",
       "    <tr>\n",
       "      <th>0</th>\n",
       "      <td>0.00</td>\n",
       "      <td>0.000</td>\n",
       "      <td>0</td>\n",
       "      <td>2.419</td>\n",
       "      <td>1.225</td>\n",
       "      <td>0.667</td>\n",
       "      <td>0</td>\n",
       "      <td>0</td>\n",
       "      <td>3.740</td>\n",
       "    </tr>\n",
       "    <tr>\n",
       "      <th>1</th>\n",
       "      <td>0.00</td>\n",
       "      <td>0.000</td>\n",
       "      <td>0</td>\n",
       "      <td>2.638</td>\n",
       "      <td>1.401</td>\n",
       "      <td>0.632</td>\n",
       "      <td>0</td>\n",
       "      <td>0</td>\n",
       "      <td>4.330</td>\n",
       "    </tr>\n",
       "    <tr>\n",
       "      <th>2</th>\n",
       "      <td>9.23</td>\n",
       "      <td>11.000</td>\n",
       "      <td>0</td>\n",
       "      <td>5.799</td>\n",
       "      <td>2.930</td>\n",
       "      <td>0.486</td>\n",
       "      <td>0</td>\n",
       "      <td>0</td>\n",
       "      <td>7.019</td>\n",
       "    </tr>\n",
       "    <tr>\n",
       "      <th>3</th>\n",
       "      <td>9.23</td>\n",
       "      <td>11.000</td>\n",
       "      <td>0</td>\n",
       "      <td>5.453</td>\n",
       "      <td>2.887</td>\n",
       "      <td>0.495</td>\n",
       "      <td>0</td>\n",
       "      <td>0</td>\n",
       "      <td>6.723</td>\n",
       "    </tr>\n",
       "    <tr>\n",
       "      <th>4</th>\n",
       "      <td>9.23</td>\n",
       "      <td>11.000</td>\n",
       "      <td>0</td>\n",
       "      <td>4.068</td>\n",
       "      <td>2.758</td>\n",
       "      <td>0.695</td>\n",
       "      <td>0</td>\n",
       "      <td>0</td>\n",
       "      <td>5.979</td>\n",
       "    </tr>\n",
       "    <tr>\n",
       "      <th>...</th>\n",
       "      <td>...</td>\n",
       "      <td>...</td>\n",
       "      <td>...</td>\n",
       "      <td>...</td>\n",
       "      <td>...</td>\n",
       "      <td>...</td>\n",
       "      <td>...</td>\n",
       "      <td>...</td>\n",
       "      <td>...</td>\n",
       "    </tr>\n",
       "    <tr>\n",
       "      <th>541</th>\n",
       "      <td>24.06</td>\n",
       "      <td>35.776</td>\n",
       "      <td>2</td>\n",
       "      <td>3.326</td>\n",
       "      <td>2.837</td>\n",
       "      <td>0.849</td>\n",
       "      <td>2</td>\n",
       "      <td>0</td>\n",
       "      <td>4.651</td>\n",
       "    </tr>\n",
       "    <tr>\n",
       "      <th>542</th>\n",
       "      <td>9.23</td>\n",
       "      <td>11.000</td>\n",
       "      <td>0</td>\n",
       "      <td>3.275</td>\n",
       "      <td>2.727</td>\n",
       "      <td>0.874</td>\n",
       "      <td>0</td>\n",
       "      <td>0</td>\n",
       "      <td>3.953</td>\n",
       "    </tr>\n",
       "    <tr>\n",
       "      <th>543</th>\n",
       "      <td>0.00</td>\n",
       "      <td>0.000</td>\n",
       "      <td>0</td>\n",
       "      <td>5.165</td>\n",
       "      <td>3.111</td>\n",
       "      <td>0.732</td>\n",
       "      <td>0</td>\n",
       "      <td>0</td>\n",
       "      <td>6.219</td>\n",
       "    </tr>\n",
       "    <tr>\n",
       "      <th>544</th>\n",
       "      <td>13.14</td>\n",
       "      <td>9.507</td>\n",
       "      <td>0</td>\n",
       "      <td>2.859</td>\n",
       "      <td>2.614</td>\n",
       "      <td>0.827</td>\n",
       "      <td>0</td>\n",
       "      <td>0</td>\n",
       "      <td>4.995</td>\n",
       "    </tr>\n",
       "    <tr>\n",
       "      <th>545</th>\n",
       "      <td>0.00</td>\n",
       "      <td>0.000</td>\n",
       "      <td>0</td>\n",
       "      <td>2.255</td>\n",
       "      <td>1.800</td>\n",
       "      <td>0.917</td>\n",
       "      <td>0</td>\n",
       "      <td>0</td>\n",
       "      <td>2.480</td>\n",
       "    </tr>\n",
       "  </tbody>\n",
       "</table>\n",
       "<p>546 rows × 9 columns</p>\n",
       "</div>"
      ],
      "text/plain": [
       "      TPSA   SAacc  H-050  MLOGP  RDCHI  GATS1p  nN  C-040  \\\n",
       "0     0.00   0.000      0  2.419  1.225   0.667   0      0   \n",
       "1     0.00   0.000      0  2.638  1.401   0.632   0      0   \n",
       "2     9.23  11.000      0  5.799  2.930   0.486   0      0   \n",
       "3     9.23  11.000      0  5.453  2.887   0.495   0      0   \n",
       "4     9.23  11.000      0  4.068  2.758   0.695   0      0   \n",
       "..     ...     ...    ...    ...    ...     ...  ..    ...   \n",
       "541  24.06  35.776      2  3.326  2.837   0.849   2      0   \n",
       "542   9.23  11.000      0  3.275  2.727   0.874   0      0   \n",
       "543   0.00   0.000      0  5.165  3.111   0.732   0      0   \n",
       "544  13.14   9.507      0  2.859  2.614   0.827   0      0   \n",
       "545   0.00   0.000      0  2.255  1.800   0.917   0      0   \n",
       "\n",
       "     quantitativeResponse  \n",
       "0                   3.740  \n",
       "1                   4.330  \n",
       "2                   7.019  \n",
       "3                   6.723  \n",
       "4                   5.979  \n",
       "..                    ...  \n",
       "541                 4.651  \n",
       "542                 3.953  \n",
       "543                 6.219  \n",
       "544                 4.995  \n",
       "545                 2.480  \n",
       "\n",
       "[546 rows x 9 columns]"
      ]
     },
     "execution_count": 92,
     "metadata": {},
     "output_type": "execute_result"
    }
   ],
   "source": [
    "data = pd.read_csv('qsar_aquatic_toxicity.csv',header = None,\n",
    "# nu avem setate numele de coloane | \n",
    "# in lab 2 le-am setat direct in fctia read_csv | \n",
    "# insa le putem seta si dupa incarcarea fisierului\n",
    "names = ['TPSA','SAacc','H-050','MLOGP','RDCHI','GATS1p','nN','C-040','quantitativeResponse'])\n",
    "data"
   ]
  },
  {
   "cell_type": "markdown",
   "metadata": {},
   "source": [
    " This dataset was used to develop quantitative regression QSAR models to predict acute aquatic toxicity towards the fish Pimephales promelas (fathead minnow) on a set of 908 chemicals. \n",
    "\n",
    "TPSA(Tot) Molecular properties\n",
    "SAacc     Molecular properties \n",
    "H-050     Atom-centred fragments \n",
    "MLOGP     Molecular properties \n",
    "RDCHI     Connectivity indices \n",
    "GATS1p    2D autocorrelations \n",
    "nN        Constitutional indices \n",
    "C-040     Atom-centred fragments"
   ]
  },
  {
   "cell_type": "code",
   "execution_count": null,
   "metadata": {},
   "outputs": [],
   "source": []
  },
  {
   "cell_type": "markdown",
   "metadata": {},
   "source": [
    "## Studierea setului de date prin manipularea acestuia"
   ]
  },
  {
   "cell_type": "markdown",
   "metadata": {},
   "source": [
    "Hai sa vizualizam datele, grafic"
   ]
  },
  {
   "cell_type": "markdown",
   "metadata": {
    "scrolled": true
   },
   "source": [
    "# data.plot(figsize=(18, 5)) # figsize este marimea dreptunghiului unde este afisat graficul (latimea si lungimea)"
   ]
  },
  {
   "cell_type": "markdown",
   "metadata": {},
   "source": [
    "Daca privim mai atent datele putem observa niste lucruri stranii in grafic\n",
    "1. Se pare ca anumite date lipsesc (acolo unde este sters graficul)\n",
    "2. Se pare ca avem anomalii in date. (anumite date nu coincid cu valorile de min sau max care le poate lua o coloana)"
   ]
  },
  {
   "cell_type": "markdown",
   "metadata": {},
   "source": [
    "Pentru a verifica daca nu lipsesc unele valori in setul nostru de date folosim fctia isnull()\n"
   ]
  },
  {
   "cell_type": "code",
   "execution_count": 112,
   "metadata": {},
   "outputs": [
    {
     "data": {
      "text/plain": [
       "TPSA                    48.472930\n",
       "SAacc                   58.869018\n",
       "H-050                    0.937729\n",
       "MLOGP                    2.313493\n",
       "RDCHI                    2.492299\n",
       "GATS1p                   1.046264\n",
       "nN                       1.003663\n",
       "C-040                    0.353480\n",
       "quantitativeResponse     4.658421\n",
       "dtype: float64"
      ]
     },
     "execution_count": 112,
     "metadata": {},
     "output_type": "execute_result"
    }
   ],
   "source": [
    "data.mean()"
   ]
  },
  {
   "cell_type": "markdown",
   "metadata": {},
   "source": [
    "Functia a returnat <b> False </b> ceea ce inseamna ca toate datele sunt si nu avem anomalii."
   ]
  },
  {
   "cell_type": "markdown",
   "metadata": {},
   "source": [
    "Construim graficele la fiecare coloană pentru a vedea cum sunt distribuite datele."
   ]
  },
  {
   "cell_type": "code",
   "execution_count": 94,
   "metadata": {},
   "outputs": [
    {
     "data": {
      "text/plain": [
       "array([[<matplotlib.axes._subplots.AxesSubplot object at 0x7f9a103cb0d0>,\n",
       "        <matplotlib.axes._subplots.AxesSubplot object at 0x7f9a10442090>,\n",
       "        <matplotlib.axes._subplots.AxesSubplot object at 0x7f9a104dc450>],\n",
       "       [<matplotlib.axes._subplots.AxesSubplot object at 0x7f9a10551f50>,\n",
       "        <matplotlib.axes._subplots.AxesSubplot object at 0x7f9a1057bbd0>,\n",
       "        <matplotlib.axes._subplots.AxesSubplot object at 0x7f9a106ec990>],\n",
       "       [<matplotlib.axes._subplots.AxesSubplot object at 0x7f9a10a150d0>,\n",
       "        <matplotlib.axes._subplots.AxesSubplot object at 0x7f9a10a1f590>,\n",
       "        <matplotlib.axes._subplots.AxesSubplot object at 0x7f9a10a6e150>]],\n",
       "      dtype=object)"
      ]
     },
     "execution_count": 94,
     "metadata": {},
     "output_type": "execute_result"
    },
    {
     "data": {
      "image/png": "[encoded data removed]",
      "text/plain": [
       "<Figure size 1080x1440 with 9 Axes>"
      ]
     },
     "metadata": {
      "needs_background": "light"
     },
     "output_type": "display_data"
    }
   ],
   "source": [
    "data.hist(figsize = (15,20))"
   ]
  },
  {
   "cell_type": "markdown",
   "metadata": {},
   "source": [
    "datanew = data[['TPSA','SAacc','H-050','MLOGP','RDCHI','GATS1p','nN','C-040']]\n",
    "\n",
    "tpsa = datanew['TPSA']\n",
    "saacc = datanew['SAacc']\n",
    "h050 = datanew['H-050']\n",
    "mloggp = datanew['MLOGP']\n",
    "rdchi = datanew['RDCHI']\n",
    "gats1p = datanew['GATS1p']\n",
    "nN = datanew['nN']\n",
    "c040 = datanew['C-040']\n",
    "quantitative = data['quantitativeResponse']\n",
    "\n",
    "# Plot with differently-colored markers.\n",
    "plt.plot(quantitative, tpsa, 'b-', label='TPSA')\n",
    "plt.plot(quantitative, saacc, 'g-', label='SAacc')\n",
    "plt.plot(quantitative, h050, 'y-', label='H-050')\n",
    "plt.plot(quantitative, mloggp, 'r-', label='MLOGP')\n",
    "plt.plot(quantitative, rdchi, 'b-', label='RDCHI')\n",
    "plt.plot(quantitative, gats1p, 'p-', label='GATS1p')\n",
    "plt.plot(quantitative, nN, 'b-', label='nN')\n",
    "plt.plot(quantitative, c040, 'g-', label='C-040')\n",
    "\n",
    "\n",
    "# Create legend.\n",
    "plt.legend(loc='upper left')\n",
    "plt.xlabel('quantitativeResponse')\n",
    "plt.ylabel('GDP per capita ($)')\n"
   ]
  },
  {
   "cell_type": "markdown",
   "metadata": {},
   "source": [
    "## Definirea problemei de regresie\n"
   ]
  },
  {
   "cell_type": "markdown",
   "metadata": {},
   "source": [
    "Drept urmare, din datele noastre putem lua ca si o caracteristica din observarile anterioare pentru variabila independenta x - coloana \"An\", iar drept raspuns variabila dependenta y - coloana \"PretMediulaBilet\""
   ]
  },
  {
   "cell_type": "code",
   "execution_count": 126,
   "metadata": {},
   "outputs": [],
   "source": [
    "datanew = data[['TPSA','SAacc','H-050','MLOGP','RDCHI','GATS1p','nN','C-040']]\n",
    "#nN = data[data['C-040'] < 2]\n",
    "XY = data[['MLOGP', 'quantitativeResponse']]\n",
    "# caracteristica an - variabila independenta x\n",
    "X = data['MLOGP']\n",
    "# raspunsul Pretul mediu la bilet - variabila dependenda y\n",
    "Y = data['quantitativeResponse']\n"
   ]
  },
  {
   "cell_type": "code",
   "execution_count": 107,
   "metadata": {},
   "outputs": [
    {
     "data": {
      "text/plain": [
       "<matplotlib.axes._subplots.AxesSubplot at 0x7f9a1019b790>"
      ]
     },
     "execution_count": 107,
     "metadata": {},
     "output_type": "execute_result"
    },
    {
     "data": {
      "image/png": "[encoded data removed]",
      "text/plain": [
       "<Figure size 432x288 with 1 Axes>"
      ]
     },
     "metadata": {
      "needs_background": "light"
     },
     "output_type": "display_data"
    }
   ],
   "source": [
    "XY.plot.scatter(y = 'quantitativeResponse', x = 'MLOGP')"
   ]
  },
  {
   "cell_type": "code",
   "execution_count": 97,
   "metadata": {},
   "outputs": [
    {
     "data": {
      "text/html": [
       "<div>\n",
       "<style scoped>\n",
       "    .dataframe tbody tr th:only-of-type {\n",
       "        vertical-align: middle;\n",
       "    }\n",
       "\n",
       "    .dataframe tbody tr th {\n",
       "        vertical-align: top;\n",
       "    }\n",
       "\n",
       "    .dataframe thead th {\n",
       "        text-align: right;\n",
       "    }\n",
       "</style>\n",
       "<table border=\"1\" class=\"dataframe\">\n",
       "  <thead>\n",
       "    <tr style=\"text-align: right;\">\n",
       "      <th></th>\n",
       "      <th>MLOGP</th>\n",
       "      <th>quantitativeResponse</th>\n",
       "    </tr>\n",
       "  </thead>\n",
       "  <tbody>\n",
       "    <tr>\n",
       "      <th>MLOGP</th>\n",
       "      <td>1.000000</td>\n",
       "      <td>0.535512</td>\n",
       "    </tr>\n",
       "    <tr>\n",
       "      <th>quantitativeResponse</th>\n",
       "      <td>0.535512</td>\n",
       "      <td>1.000000</td>\n",
       "    </tr>\n",
       "  </tbody>\n",
       "</table>\n",
       "</div>"
      ],
      "text/plain": [
       "                         MLOGP  quantitativeResponse\n",
       "MLOGP                 1.000000              0.535512\n",
       "quantitativeResponse  0.535512              1.000000"
      ]
     },
     "execution_count": 97,
     "metadata": {},
     "output_type": "execute_result"
    }
   ],
   "source": [
    "XY.corr()\n",
    "# XY.descibe()"
   ]
  },
  {
   "cell_type": "code",
   "execution_count": 108,
   "metadata": {},
   "outputs": [],
   "source": [
    "\n",
    "model = LinearRegression()"
   ]
  },
  {
   "cell_type": "code",
   "execution_count": 99,
   "metadata": {},
   "outputs": [],
   "source": [
    "scores = []\n",
    "kfold = KFold(n_splits = 5, shuffle = True, random_state=42)"
   ]
  },
  {
   "cell_type": "code",
   "execution_count": 138,
   "metadata": {
    "scrolled": true
   },
   "outputs": [
    {
     "name": "stderr",
     "output_type": "stream",
     "text": [
      "/home/boris/.local/lib/python3.7/site-packages/ipykernel_launcher.py:1: FutureWarning: Method .as_matrix will be removed in a future version. Use .values instead.\n",
      "  \"\"\"Entry point for launching an IPython kernel.\n"
     ]
    }
   ],
   "source": [
    "X = data.as_matrix(['MLOGP'])"
   ]
  },
  {
   "cell_type": "code",
   "execution_count": 139,
   "metadata": {},
   "outputs": [],
   "source": [
    "model_n = model.fit(X,Y)"
   ]
  },
  {
   "cell_type": "code",
   "execution_count": 110,
   "metadata": {},
   "outputs": [
    {
     "name": "stdout",
     "output_type": "stream",
     "text": [
      "[0.4861388232902433, 0.4861388232902433, 0.4861388232902433]\n"
     ]
    }
   ],
   "source": [
    "scores = []\n",
    "kfold = KFold(n_splits=3, shuffle=True, random_state=42)\n",
    "for i, (train, test) in enumerate(kfold.split(X, Y)):\n",
    "     scores.append(model.score(X, Y))\n",
    "print(scores)"
   ]
  },
  {
   "cell_type": "code",
   "execution_count": 116,
   "metadata": {},
   "outputs": [
    {
     "data": {
      "text/plain": [
       "LinearRegression(copy_X=True, fit_intercept=True, n_jobs=None, normalize=False)"
      ]
     },
     "execution_count": 116,
     "metadata": {},
     "output_type": "execute_result"
    }
   ],
   "source": []
  },
  {
   "cell_type": "code",
   "execution_count": 141,
   "metadata": {},
   "outputs": [
    {
     "data": {
      "image/png": "[encoded data removed]",
      "text/plain": [
       "<Figure size 1152x576 with 1 Axes>"
      ]
     },
     "metadata": {
      "needs_background": "light"
     },
     "output_type": "display_data"
    }
   ],
   "source": [
    "pr = model.predict(X)\n",
    "\n",
    "plt.figure(figsize=(16, 8))\n",
    "plt.scatter(data['MLOGP'],data['quantitativeResponse'],c='black')\n",
    "plt.plot(data['MLOGP'],pr,c='blue',linewidth=2)\n",
    "plt.xlabel(\"MLOGP\")\n",
    "plt.ylabel(\"quantitativeResponse\")\n",
    "plt.show()"
   ]
  },
  {
   "cell_type": "markdown",
   "metadata": {},
   "source": [
    "Concluzie:\n",
    "    La acesta lucrare de laborator am studia algoritmul de regresie lineara si l-am implimentat asupra setului nostrru de date pe care l-am luat drept testare.\n",
    "    Dupa analizarea datelor am construit dependenta necesara dintre cimpuri care ar trebuie sa fie pentru prezicerea rezultatelor si am contruit linia de regresie. "
   ]
  }
 ],
 "metadata": {
  "kernelspec": {
   "display_name": "Python 3",
   "language": "python",
   "name": "python3"
  },
  "language_info": {
   "codemirror_mode": {
    "name": "ipython",
    "version": 3
   },
   "file_extension": ".py",
   "mimetype": "text/x-python",
   "name": "python",
   "nbconvert_exporter": "python",
   "pygments_lexer": "ipython3",
   "version": "3.7.5rc1"
  }
 },
 "nbformat": 4,
 "nbformat_minor": 2
}
