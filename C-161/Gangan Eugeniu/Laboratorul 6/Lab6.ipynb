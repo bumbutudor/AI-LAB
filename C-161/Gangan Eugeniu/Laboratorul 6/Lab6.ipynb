{
 "cells": [
  {
   "cell_type": "code",
   "execution_count": 1,
   "metadata": {},
   "outputs": [],
   "source": [
    "import numpy\n",
    "import scipy.special\n",
    "import glob\n",
    "import scipy.misc\n",
    "class neuralNetwork:\n",
    "    def __init__(self, inputNodes, hiddenOneNodes, hiddenTwoNodes, hiddenThreeNodes, finalNodes, alpha):\n",
    "        self.inputNodes = inputNodes\n",
    "        self.hiddenOneNodes = hiddenOneNodes\n",
    "        self.hiddenTwoNodes = hiddenTwoNodes\n",
    "        self.hiddenThreeNodes = hiddenThreeNodes\n",
    "        self.finalNodes = finalNodes\n",
    "        self.alpha = alpha\n",
    "        self.weightsInputHidden = numpy.random.normal(0.0, pow(self.hiddenOneNodes, -0.5),(self.hiddenOneNodes,self.inputNodes))\n",
    "        self.weightsHiddenOneHiddenTwo = numpy.random.normal(0.0, pow(self.hiddenTwoNodes,-0.5),(self.hiddenTwoNodes,self.hiddenOneNodes))\n",
    "        self.weightsHiddenTwoHiddenThree = numpy.random.normal(0.0, pow(self.hiddenThreeNodes,-0.5),(self.hiddenThreeNodes,self.hiddenTwoNodes))\n",
    "        self.weightsHiddenOutput = numpy.random.normal(0.0, pow(self.hiddenOneNodes,-0.5),(self.finalNodes, self.hiddenThreeNodes))\n",
    "        pass\n",
    "    def train(self, inputs, target):\n",
    "        inputs = numpy.array(inputs, ndmin=2).T\n",
    "        target = numpy.array(target, ndmin=2).T\n",
    "        hiddenInput = numpy.dot(self.weightsInputHidden,inputs)\n",
    "        hiddenOneOutput = self.sigmoid(hiddenInput)\n",
    "        hiddenTwoInput = numpy.dot(self.weightsHiddenOneHiddenTwo,hiddenOneOutput)\n",
    "        hiddenTwoOutput = self.sigmoid(hiddenTwoInput)\n",
    "        hiddenThreeInput = numpy.dot(self.weightsHiddenTwoHiddenThree,hiddenTwoOutput)\n",
    "        hiddenThreeOutput = self.sigmoid(hiddenThreeInput)\n",
    "        finalInput = numpy.dot(self.weightsHiddenOutput,hiddenThreeOutput)\n",
    "        finalOutput = self.sigmoid(finalInput)\n",
    "        outputError = target - finalOutput\n",
    "        hiddenOutputError = numpy.dot(self.weightsHiddenOutput.T, outputError)\n",
    "        hiddenThreeHiddenTwoError = numpy.dot(self.weightsHiddenTwoHiddenThree.T, hiddenOutputError)\n",
    "        hiddenTwoHiddenOneError = numpy.dot(self.weightsHiddenOneHiddenTwo.T, hiddenThreeHiddenTwoError)\n",
    "        hiddenInputError = numpy.dot(self.weightsInputHidden.T, hiddenTwoHiddenOneError)\n",
    "        self.weightsHiddenOutput += self.alpha * numpy.dot((outputError * finalOutput * (1.0 - finalOutput)),numpy.transpose(hiddenThreeOutput))\n",
    "        self.weightsHiddenTwoHiddenThree += self.alpha * numpy.dot((hiddenOutputError * hiddenThreeOutput * (1.0 - hiddenThreeOutput)),numpy.transpose(hiddenTwoOutput))\n",
    "        self.weightsHiddenOneHiddenTwo += self.alpha * numpy.dot((hiddenThreeHiddenTwoError * hiddenTwoOutput * (1.0 - hiddenTwoOutput)),numpy.transpose(hiddenOneOutput))\n",
    "        self.weightsInputHidden += self.alpha * numpy.dot((hiddenTwoHiddenOneError * hiddenOneOutput * (1.0 - hiddenOneOutput)),numpy.transpose(inputs))        \n",
    "        pass\n",
    "    def query(self, inputs):\n",
    "        inputs = numpy.array(inputs, ndmin=2).T\n",
    "        hiddenInput = numpy.dot(self.weightsInputHidden,inputs)\n",
    "        hiddenOneOutput = self.sigmoid(hiddenInput)\n",
    "        hiddenTwoInput = numpy.dot(self.weightsHiddenOneHiddenTwo,hiddenOneOutput)\n",
    "        hiddenTwoOutput = self.sigmoid(hiddenTwoInput)\n",
    "        hiddenThreeInput = numpy.dot(self.weightsHiddenTwoHiddenThree,hiddenTwoOutput)\n",
    "        hiddenThreeOutput = self.sigmoid(hiddenThreeInput)\n",
    "        finalInput = numpy.dot(self.weightsHiddenOutput,hiddenThreeOutput)\n",
    "        finalOutput = self.sigmoid(finalInput)\n",
    "        return finalOutput\n",
    "        pass\n",
    "    def sigmoid(self, x):\n",
    "        return scipy.special.expit(x)\n",
    "        pass"
   ]
  },
  {
   "cell_type": "code",
   "execution_count": 2,
   "metadata": {},
   "outputs": [
    {
     "name": "stdout",
     "output_type": "stream",
     "text": [
      "Before training\n",
      "[[0.49649022]]\n",
      "[[0.49778297]]\n",
      "[[0.49728326]]\n",
      "[[0.49854806]]\n",
      "Training...\n",
      "Done\n",
      "[[0.00506313]]\n",
      "[[0.0050576]]\n",
      "[[0.0050716]]\n",
      "[[0.99075744]]\n"
     ]
    }
   ],
   "source": [
    "#AND\n",
    "n = neuralNetwork(2,12,36,12,1,0.1)\n",
    "print('Before training')\n",
    "print(n.query([0,0]))\n",
    "print(n.query([0,1]))\n",
    "print(n.query([1,0]))\n",
    "print(n.query([1,1]))\n",
    "print(\"Training...\")\n",
    "for i in range(0, 10000):\n",
    "    n.train([0,0],[0])\n",
    "    n.train([0,1],[0])\n",
    "    n.train([1,0],[0])\n",
    "    n.train([1,1],[1])\n",
    "print(\"Done\")\n",
    "print(n.query([0,0]))\n",
    "print(n.query([0,1]))\n",
    "print(n.query([1,0]))\n",
    "print(n.query([1,1]))"
   ]
  }
 ],
 "metadata": {
  "kernelspec": {
   "display_name": "Python 3",
   "language": "python",
   "name": "python3"
  },
  "language_info": {
   "codemirror_mode": {
    "name": "ipython",
    "version": 3
   },
   "file_extension": ".py",
   "mimetype": "text/x-python",
   "name": "python",
   "nbconvert_exporter": "python",
   "pygments_lexer": "ipython3",
   "version": "3.7.4"
  }
 },
 "nbformat": 4,
 "nbformat_minor": 2
}
