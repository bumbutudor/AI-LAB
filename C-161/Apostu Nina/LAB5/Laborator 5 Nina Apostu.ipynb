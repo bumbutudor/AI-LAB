{
 "cells": [
  {
   "cell_type": "markdown",
   "metadata": {},
   "source": [
    "# Algoritmul K Nearest Neighbors"
   ]
  },
  {
   "cell_type": "markdown",
   "metadata": {},
   "source": [
    "## Sarcina\n"
   ]
  },
  {
   "cell_type": "markdown",
   "metadata": {},
   "source": [
    "Scrieți un program Python folosind Scikit-learn. Împărțiți setul de date 'iris.csv' (path dataset/iris.csv) în 70% date de antrenare și 30% date de testare. Din totalul de 150 de înregistrări, setul de antrenare va conține 105 înregistrări, iar setul de testare va conține 45 dintre aceste înregistrări. Presupuneți răspunsul corect pentru setul de date de testare care are urmatoarele artibute ('sepal_length', 'sepal_width', 'petal_length', 'petal_width') folosind algoritmul k-Nearest Neighbors. Utilizați k = 5 (număr de vecini).\n",
    "\n",
    "Referinte: https://www.datacamp.com/community/tutorials/k-nearest-neighbor-classification-scikit-learn\n",
    "\n",
    "Solutie: http://81.180.84.246:8888/notebooks/AI-LAB/Lab%205/lab_5_solutie.ipynb\n",
    "\n",
    "Parola: HDOHP cifrata cu paternul (alfabet: 'abcdefghijklmnopqrstuvwxy'  -> alfabet cifrat: '??qgiumeaylnof?xjkrcvstzwb')"
   ]
  },
  {
   "cell_type": "code",
   "execution_count": 5,
   "metadata": {},
   "outputs": [
    {
     "name": "stdout",
     "output_type": "stream",
     "text": [
      "Raspunsurile date de model:\n",
      "['virginica' 'versicolor' 'virginica' 'setosa' 'virginica' 'setosa'\n",
      " 'virginica' 'versicolor' 'virginica' 'virginica' 'versicolor' 'virginica'\n",
      " 'virginica' 'setosa' 'virginica' 'virginica' 'setosa' 'virginica'\n",
      " 'virginica' 'setosa' 'setosa' 'setosa' 'virginica' 'setosa' 'virginica'\n",
      " 'setosa' 'virginica' 'setosa' 'versicolor' 'setosa' 'setosa' 'versicolor'\n",
      " 'setosa' 'versicolor' 'versicolor' 'versicolor' 'setosa' 'virginica'\n",
      " 'setosa' 'versicolor' 'versicolor' 'versicolor' 'virginica' 'virginica'\n",
      " 'versicolor']\n"
     ]
    }
   ],
   "source": [
    "import pandas as pd\n",
    "from sklearn.model_selection import train_test_split\n",
    "from sklearn.neighbors import KNeighborsClassifier\n",
    "#incarcam setul de date\n",
    "iris = pd.read_csv(\"iris.csv\")\n",
    "#despărțim datasetul în vector de caracteristici (features) și vectorul clasă\n",
    "features = ['sepal_length', 'sepal_width', 'petal_length', 'petal_width']\n",
    "X = iris[features] # caracteristicile (atributele pentru X)\n",
    "y = iris.species # caracteristica clasă\n",
    "#impartim setul de date integral in date de antranare si date de testare utilizand functia train_test_split\n",
    "X_train, X_test, y_train, y_test = train_test_split(X, y, test_size=0.30)\n",
    "'''\n",
    "print(\"\\n70% Antrenare:\")\n",
    "print(X_train)\n",
    "print(y_train)\n",
    "print(\"\\n30% Testare:\")\n",
    "print(X_test)\n",
    "print(y_test)\n",
    "'''\n",
    "#cream clasificatorul k-nn\n",
    "#setam numarul de vecini ca parametru explicit\n",
    "knn = KNeighborsClassifier(n_neighbors=5)\n",
    "#antrenam modelul utilizand setul de date de antrenare\n",
    "knn.fit(X_train, y_train)\n",
    "#prezicem raspunsul corect pentru setul de destare\n",
    "print(\"Raspunsurile date de model:\")\n",
    "y_pred = knn.predict(X_test)\n",
    "print(y_pred)"
   ]
  },
  {
   "cell_type": "code",
   "execution_count": 6,
   "metadata": {},
   "outputs": [
    {
     "ename": "SyntaxError",
     "evalue": "invalid syntax (<ipython-input-6-eb47d341e679>, line 1)",
     "output_type": "error",
     "traceback": [
      "\u001b[0;36m  File \u001b[0;32m\"<ipython-input-6-eb47d341e679>\"\u001b[0;36m, line \u001b[0;32m1\u001b[0m\n\u001b[0;31m    Concluzie:\u001b[0m\n\u001b[0m              ^\u001b[0m\n\u001b[0;31mSyntaxError\u001b[0m\u001b[0;31m:\u001b[0m invalid syntax\n"
     ]
    }
   ],
   "source": [
    "Concluzie:\n",
    "    In urma lucrarii de laborator s-a elaborat un program Phyton care permite sa folosim un set de date\n",
    "    pe care il separam in set de date pentru antrenare si set de date pentru testare, Apoi precizam raspunsul \n",
    "    corect pentru setul de testare"
   ]
  },
  {
   "cell_type": "code",
   "execution_count": null,
   "metadata": {},
   "outputs": [],
   "source": []
  }
 ],
 "metadata": {
  "kernelspec": {
   "display_name": "Python 3",
   "language": "python",
   "name": "python3"
  },
  "language_info": {
   "codemirror_mode": {
    "name": "ipython",
    "version": 3
   },
   "file_extension": ".py",
   "mimetype": "text/x-python",
   "name": "python",
   "nbconvert_exporter": "python",
   "pygments_lexer": "ipython3",
   "version": "3.7.5"
  }
 },
 "nbformat": 4,
 "nbformat_minor": 2
}
