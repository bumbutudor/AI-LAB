{
 "cells": [
  {
   "cell_type": "markdown",
   "metadata": {},
   "source": [
    "Rezolvati problema logica 'AND' pe o multime \n",
    "de 3 elemente binare de intrare utilizand o \n",
    "retea neuronala simpla - perceptronul.\n",
    "Setul de exemple de antrenare il generati automat."
   ]
  },
  {
   "cell_type": "code",
   "execution_count": 1,
   "metadata": {},
   "outputs": [],
   "source": [
    "# includem instrumentele necesare (bibliotecile)\n",
    "import numpy as np \n",
    "import random"
   ]
  },
  {
   "cell_type": "code",
   "execution_count": 2,
   "metadata": {},
   "outputs": [],
   "source": [
    "# definim functia de activare (functia logistica)\n",
    "def sigmoidala(x):\n",
    "    return 1 / (1 + np.exp(-x))"
   ]
  },
  {
   "cell_type": "code",
   "execution_count": 3,
   "metadata": {},
   "outputs": [],
   "source": [
    "# definim o functie care returneaza derivata sigmoidalei\n",
    "def sigm_derivata(x):\n",
    "    return x * (1 - x)# sigmoidala(x) * (1-sigmoidala(x))"
   ]
  },
  {
   "cell_type": "code",
   "execution_count": 4,
   "metadata": {},
   "outputs": [],
   "source": [
    "# definim functia OR dintre 0 si 1\n",
    "def f_or(x1, x2, x3):\n",
    "    if (x1 == 0 and x2 == 0 and x3 == 0):\n",
    "        return 0\n",
    "    else: \n",
    "        return 1"
   ]
  },
  {
   "cell_type": "code",
   "execution_count": 5,
   "metadata": {},
   "outputs": [
    {
     "name": "stdout",
     "output_type": "stream",
     "text": [
      "[[1 1 1]\n",
      " [1 1 1]\n",
      " [1 1 0]\n",
      " [0 1 1]\n",
      " [1 1 1]\n",
      " [1 0 0]\n",
      " [1 0 1]\n",
      " [0 1 0]\n",
      " [1 0 0]\n",
      " [0 1 1]]\n"
     ]
    }
   ],
   "source": [
    "# initializam o matrice cu 10 exemple de caracteristici aleatorii pentru inrare\n",
    "date_intrare =  np.random.randint(2, size=(10, 3))\n",
    "print(date_intrare)"
   ]
  },
  {
   "cell_type": "code",
   "execution_count": 6,
   "metadata": {},
   "outputs": [],
   "source": [
    "# calculam functia OR pentru fiecare exemplu din exemplele de intrare\n",
    "date_iesire = [f_or(x1,x2,x3) for x1, x2, x3 in date_intrare]"
   ]
  },
  {
   "cell_type": "code",
   "execution_count": 7,
   "metadata": {},
   "outputs": [
    {
     "name": "stdout",
     "output_type": "stream",
     "text": [
      "[1, 1, 1, 1, 1, 1, 1, 1, 1, 1]\n"
     ]
    }
   ],
   "source": [
    "print(date_iesire)"
   ]
  },
  {
   "cell_type": "code",
   "execution_count": 8,
   "metadata": {},
   "outputs": [
    {
     "name": "stdout",
     "output_type": "stream",
     "text": [
      "0.43614594952069596 0.9330221125370156 0.440741479988336\n"
     ]
    }
   ],
   "source": [
    "# initializam ponderile cu un numar real random intre 0 si 1\n",
    "pondere1 = random.random()\n",
    "pondere2 = random.random()\n",
    "pondere3 = random.random()\n",
    "print(pondere1, pondere2, pondere3)"
   ]
  },
  {
   "cell_type": "code",
   "execution_count": 9,
   "metadata": {},
   "outputs": [],
   "source": [
    "# initializam constanta de invatare cu 0.05 (in dependenta de rezultat o putem modifica)\n",
    "c = 0.01"
   ]
  },
  {
   "cell_type": "code",
   "execution_count": 10,
   "metadata": {},
   "outputs": [],
   "source": [
    "# intr-o 100 de iteratii\n",
    "for j in range(10000):\n",
    "    \n",
    "    # luam fiecare exemplu pe rand (din datele de invatare)\n",
    "    for i, (x1, x2, x3) in enumerate(date_intrare):\n",
    "        \n",
    "        \n",
    "        # calculam activarea totala (sigmoid pe suma ponderata)\n",
    "        iesire = sigmoidala((x1 * pondere1) + (x2 * pondere2) + (x3 * pondere3))\n",
    "        \n",
    "        # calculam eroarea\n",
    "        eroare = ((date_iesire[i] - iesire)**2)/2\n",
    "\n",
    "        # caclulam derivata integrala cu constata de invatare\n",
    "        ajustare = eroare * sigm_derivata(iesire) * c\n",
    "        \n",
    "        pondere1 = pondere1 + ajustare\n",
    "        pondere2 = pondere2 + ajustare\n",
    "        pondere3 = pondere3 + ajustare\n",
    "        #print(\"{} or {} | {} {} {}\".format(x1, x2, iesire, date_iesire[i], eroare))\n",
    "        #print(pondere1, pondere2)"
   ]
  },
  {
   "cell_type": "code",
   "execution_count": 11,
   "metadata": {},
   "outputs": [
    {
     "name": "stdout",
     "output_type": "stream",
     "text": [
      "1 or 1 or 1 | Corect: 1 Neuron: 0.9957384174979226\n",
      "1 or 1 or 1 | Corect: 1 Neuron: 0.9957384174979226\n",
      "1 or 1 or 0 | Corect: 1 Neuron: 0.9780856959572035\n",
      "0 or 1 or 1 | Corect: 1 Neuron: 0.9781839807563076\n",
      "1 or 1 or 1 | Corect: 1 Neuron: 0.9957384174979226\n",
      "1 or 0 or 0 | Corect: 1 Neuron: 0.8389978973250236\n",
      "1 or 0 or 1 | Corect: 1 Neuron: 0.9646401140660963\n",
      "0 or 1 or 0 | Corect: 1 Neuron: 0.8954505597467763\n",
      "1 or 0 or 0 | Corect: 1 Neuron: 0.8389978973250236\n",
      "0 or 1 or 1 | Corect: 1 Neuron: 0.9781839807563076\n"
     ]
    }
   ],
   "source": [
    "for i, (x1, x2, x3) in enumerate(date_intrare):\n",
    "    iesire = sigmoidala((x1 * pondere1) + (x2 * pondere2) + (x3 * pondere3))\n",
    "    print(\"{} or {} or {} | Corect: {} Neuron: {}\".format(x1, x2, x3, date_iesire[i], iesire))"
   ]
  }
 ],
 "metadata": {
  "kernelspec": {
   "display_name": "Python 3",
   "language": "python",
   "name": "python3"
  },
  "language_info": {
   "codemirror_mode": {
    "name": "ipython",
    "version": 3
   },
   "file_extension": ".py",
   "mimetype": "text/x-python",
   "name": "python",
   "nbconvert_exporter": "python",
   "pygments_lexer": "ipython3",
   "version": "3.7.4"
  }
 },
 "nbformat": 4,
 "nbformat_minor": 2
}
