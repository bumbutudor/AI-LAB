{
 "cells": [
  {
   "cell_type": "markdown",
   "metadata": {},
   "source": [
    "# Algoritmul K Nearest Neighbors"
   ]
  },
  {
   "cell_type": "markdown",
   "metadata": {},
   "source": [
    "## Sarcina\n"
   ]
  },
  {
   "cell_type": "markdown",
   "metadata": {},
   "source": [
    "Scrieți un program Python folosind Scikit-learn. Împărțiți setul de date 'iris.csv' (path dataset/iris.csv) în 70% date de antrenare și 30% date de testare. Din totalul de 150 de înregistrări, setul de antrenare va conține 105 înregistrări, iar setul de testare va conține 45 dintre aceste înregistrări. Presupuneți răspunsul corect pentru setul de date de testare care are urmatoarele artibute ('sepal_length', 'sepal_width', 'petal_length', 'petal_width') folosind algoritmul k-Nearest Neighbors. Utilizați k = 5 (număr de vecini).\n",
    "\n",
    "Referinte: "
   ]
  },
  {
   "cell_type": "markdown",
   "metadata": {},
   "source": [
    "import pandas as pd\n",
    "from sklearn.model_selection import train_test_split\n",
    "from sklearn.neighbors import KNeighborsClassifier\n",
    "#incarcam setul de date\n",
    "iris = pd.read_csv(\"iris.csv\")\n",
    "#despărțim datasetul în vector de caracteristici (features) și vectorul clasă\n",
    "features = ['sepal_length', 'sepal_width', 'petal_length', 'petal_width']\n",
    "X = iris[features] # caracteristicile (atributele pentru X)\n",
    "y = iris.species # caracteristica clasă\n",
    "#impartim setul de date integral in date de antranare si date de testare utilizand functia train_test_split\n",
    "X_train, X_test, y_train, y_test = train_test_split(X, y, test_size=0.30)\n",
    "'''\n",
    "print(\"\\n70% train data:\")\n",
    "print(X_train)\n",
    "print(y_train)\n",
    "print(\"\\n30% test data:\")\n",
    "print(X_test)\n",
    "print(y_test)\n",
    "'''\n",
    "#cream clasificatorul k-nn\n",
    "#setam numarul de vecini ca parametru explicit\n",
    "knn = KNeighborsClassifier(n_neighbors=5)\n",
    "#antrenam modelul utilizand setul de date de antrenare\n",
    "knn.fit(X_train, y_train)\n",
    "#prezicem raspunsul corect pentru setul de destare\n",
    "print(\"Response for test dataset:\")\n",
    "y_pred = knn.predict(X_test)\n",
    "print(y_pred)"
   ]
  },
  {
   "cell_type": "code",
   "execution_count": 17,
   "metadata": {},
   "outputs": [
    {
     "ename": "ModuleNotFoundError",
     "evalue": "No module named 'pycipher'",
     "output_type": "error",
     "traceback": [
      "\u001b[1;31m---------------------------------------------------------------------------\u001b[0m",
      "\u001b[1;31mModuleNotFoundError\u001b[0m                       Traceback (most recent call last)",
      "\u001b[1;32m<ipython-input-17-7cfc3d64be29>\u001b[0m in \u001b[0;36m<module>\u001b[1;34m\u001b[0m\n\u001b[1;32m----> 1\u001b[1;33m \u001b[1;32mfrom\u001b[0m \u001b[0mpycipher\u001b[0m \u001b[1;32mimport\u001b[0m \u001b[0mSimpleSubstitution\u001b[0m\u001b[1;33m\u001b[0m\u001b[1;33m\u001b[0m\u001b[0m\n\u001b[0m",
      "\u001b[1;31mModuleNotFoundError\u001b[0m: No module named 'pycipher'"
     ]
    }
   ],
   "source": [
    "from pycipher import SimpleSubstitution"
   ]
  }
 ],
 "metadata": {
  "kernelspec": {
   "display_name": "Python 3",
   "language": "python",
   "name": "python3"
  },
  "language_info": {
   "codemirror_mode": {
    "name": "ipython",
    "version": 3
   },
   "file_extension": ".py",
   "mimetype": "text/x-python",
   "name": "python",
   "nbconvert_exporter": "python",
   "pygments_lexer": "ipython3",
   "version": "3.7.1"
  }
 },
 "nbformat": 4,
 "nbformat_minor": 2
}
