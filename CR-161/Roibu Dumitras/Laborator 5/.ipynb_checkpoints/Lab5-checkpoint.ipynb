{
 "cells": [
  {
   "cell_type": "code",
   "execution_count": 1,
   "metadata": {},
   "outputs": [
    {
     "name": "stdout",
     "output_type": "stream",
     "text": [
      "Raspunsurile date de model:\n",
      "['virginica' 'setosa' 'setosa' 'virginica' 'setosa' 'virginica'\n",
      " 'versicolor' 'versicolor' 'versicolor' 'setosa' 'versicolor' 'setosa'\n",
      " 'versicolor' 'setosa' 'setosa' 'virginica' 'versicolor' 'setosa'\n",
      " 'virginica' 'virginica' 'virginica' 'setosa' 'versicolor' 'virginica'\n",
      " 'virginica' 'versicolor' 'virginica' 'setosa' 'virginica' 'setosa'\n",
      " 'virginica' 'setosa' 'setosa' 'virginica' 'virginica' 'virginica'\n",
      " 'versicolor' 'setosa' 'versicolor' 'setosa' 'setosa' 'virginica'\n",
      " 'virginica' 'virginica' 'setosa']\n"
     ]
    }
   ],
   "source": [
    "import pandas as pd\n",
    "from sklearn.model_selection import train_test_split\n",
    "from sklearn.neighbors import KNeighborsClassifier\n",
    "#incarcam setul de date\n",
    "iris = pd.read_csv(\"iris.csv\")\n",
    "#despărțim datasetul în vector de caracteristici (features) și vectorul clasă\n",
    "features = ['sepal_length', 'sepal_width', 'petal_length', 'petal_width']\n",
    "X = iris[features] # caracteristicile (atributele pentru X)\n",
    "y = iris.species # caracteristica clasă\n",
    "#impartim setul de date integral in date de antranare si date de testare utilizand functia train_test_split\n",
    "X_train, X_test, y_train, y_test = train_test_split(X, y, test_size=0.30)\n",
    "'''\n",
    "print(\"\\n70% Antrenare:\")\n",
    "print(X_train)\n",
    "print(y_train)\n",
    "print(\"\\n30% Testare:\")\n",
    "print(X_test)\n",
    "print(y_test)\n",
    "'''\n",
    "#cream clasificatorul k-nn\n",
    "#setam numarul de vecini ca parametru explicit\n",
    "knn = KNeighborsClassifier(n_neighbors=5)\n",
    "#antrenam modelul utilizand setul de date de antrenare\n",
    "knn.fit(X_train, y_train)\n",
    "#prezicem raspunsul corect pentru setul de destare\n",
    "print(\"Raspunsurile date de model:\")\n",
    "y_pred = knn.predict(X_test)\n",
    "print(y_pred)"
   ]
  },
  {
   "cell_type": "markdown",
   "metadata": {},
   "source": [
    "Concluzie:\n",
    "    In urma lucrarii de laborator s-a elaborat un program Phyton care permite sa folosim un set de date\n",
    "    pe care il separam in set de date pentru antrenare si set de date pentru testare, Apoi precizam raspunsul \n",
    "    corect pentru setul de testare"
   ]
  }
 ],
 "metadata": {
  "kernelspec": {
   "display_name": "Python 3",
   "language": "python",
   "name": "python3"
  },
  "language_info": {
   "codemirror_mode": {
    "name": "ipython",
    "version": 3
   },
   "file_extension": ".py",
   "mimetype": "text/x-python",
   "name": "python",
   "nbconvert_exporter": "python",
   "pygments_lexer": "ipython3",
   "version": "3.7.4"
  }
 },
 "nbformat": 4,
 "nbformat_minor": 2
}
