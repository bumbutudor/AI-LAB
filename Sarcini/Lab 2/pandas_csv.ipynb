{
 "cells": [
  {
   "cell_type": "code",
   "execution_count": 7,
   "metadata": {},
   "outputs": [],
   "source": [
    "import pandas as pd\n",
    "import numpy as np\n",
    "from pandas import DataFrame, Series"
   ]
  },
  {
   "cell_type": "markdown",
   "metadata": {},
   "source": [
    "##### Pandas folosește două structuri de date cheie Seria și DataFrame. O serie este o listă specială de valori etichetată. Un DataFrame este un dicționar al seriei și este utilizat pentru a reprezenta tabele de date. "
   ]
  },
  {
   "cell_type": "markdown",
   "metadata": {},
   "source": [
    "# Citim fisierul CSV"
   ]
  },
  {
   "cell_type": "code",
   "execution_count": 8,
   "metadata": {},
   "outputs": [],
   "source": [
    "# transforma fisierul csv intr-o matrice (structura tabelara)\n",
    "csv = pd.read_csv('people-example.csv')"
   ]
  },
  {
   "cell_type": "markdown",
   "metadata": {},
   "source": [
    "# CSV"
   ]
  },
  {
   "cell_type": "code",
   "execution_count": 11,
   "metadata": {},
   "outputs": [
    {
     "data": {
      "text/html": [
       "<div>\n",
       "<style scoped>\n",
       "    .dataframe tbody tr th:only-of-type {\n",
       "        vertical-align: middle;\n",
       "    }\n",
       "\n",
       "    .dataframe tbody tr th {\n",
       "        vertical-align: top;\n",
       "    }\n",
       "\n",
       "    .dataframe thead th {\n",
       "        text-align: right;\n",
       "    }\n",
       "</style>\n",
       "<table border=\"1\" class=\"dataframe\">\n",
       "  <thead>\n",
       "    <tr style=\"text-align: right;\">\n",
       "      <th></th>\n",
       "      <th>First Name</th>\n",
       "      <th>Last Name</th>\n",
       "      <th>Country</th>\n",
       "      <th>age</th>\n",
       "    </tr>\n",
       "  </thead>\n",
       "  <tbody>\n",
       "    <tr>\n",
       "      <th>0</th>\n",
       "      <td>Bob</td>\n",
       "      <td>Smith</td>\n",
       "      <td>United States</td>\n",
       "      <td>24</td>\n",
       "    </tr>\n",
       "    <tr>\n",
       "      <th>1</th>\n",
       "      <td>Alice</td>\n",
       "      <td>Williams</td>\n",
       "      <td>Canada</td>\n",
       "      <td>23</td>\n",
       "    </tr>\n",
       "    <tr>\n",
       "      <th>2</th>\n",
       "      <td>Malcolm</td>\n",
       "      <td>Jone</td>\n",
       "      <td>England</td>\n",
       "      <td>22</td>\n",
       "    </tr>\n",
       "    <tr>\n",
       "      <th>3</th>\n",
       "      <td>Felix</td>\n",
       "      <td>Brown</td>\n",
       "      <td>USA</td>\n",
       "      <td>23</td>\n",
       "    </tr>\n",
       "    <tr>\n",
       "      <th>4</th>\n",
       "      <td>Alex</td>\n",
       "      <td>Cooper</td>\n",
       "      <td>Poland</td>\n",
       "      <td>23</td>\n",
       "    </tr>\n",
       "  </tbody>\n",
       "</table>\n",
       "</div>"
      ],
      "text/plain": [
       "  First Name Last Name        Country  age\n",
       "0        Bob     Smith  United States   24\n",
       "1      Alice  Williams         Canada   23\n",
       "2    Malcolm      Jone        England   22\n",
       "3      Felix     Brown            USA   23\n",
       "4       Alex    Cooper         Poland   23"
      ]
     },
     "execution_count": 11,
     "metadata": {},
     "output_type": "execute_result"
    }
   ],
   "source": [
    "# afiseaza primele randru din tabel\n",
    "csv.head()\n",
    "# afiseaza ultimele randuri din tabel\n",
    "# csv.tail()"
   ]
  },
  {
   "cell_type": "code",
   "execution_count": 14,
   "metadata": {},
   "outputs": [
    {
     "data": {
      "text/plain": [
       "0    United States\n",
       "1           Canada\n",
       "2          England\n",
       "3              USA\n",
       "4           Poland\n",
       "5    United States\n",
       "6      Switzerland\n",
       "Name: Country, dtype: object"
      ]
     },
     "execution_count": 14,
     "metadata": {},
     "output_type": "execute_result"
    }
   ],
   "source": [
    "# Exemplu de series pentru country\n",
    "country = Series(csv['Country'])\n",
    "country"
   ]
  },
  {
   "cell_type": "markdown",
   "metadata": {},
   "source": [
    "# Studierea coloanelor din setul de date"
   ]
  },
  {
   "cell_type": "code",
   "execution_count": 15,
   "metadata": {},
   "outputs": [
    {
     "data": {
      "text/plain": [
       "0    United States\n",
       "1           Canada\n",
       "2          England\n",
       "3              USA\n",
       "4           Poland\n",
       "5    United States\n",
       "6      Switzerland\n",
       "Name: Country, dtype: object"
      ]
     },
     "execution_count": 15,
     "metadata": {},
     "output_type": "execute_result"
    }
   ],
   "source": [
    "# afiseaza tot din coloana \"country\"\n",
    "csv['Country']"
   ]
  },
  {
   "cell_type": "code",
   "execution_count": 16,
   "metadata": {},
   "outputs": [
    {
     "data": {
      "text/plain": [
       "0    24\n",
       "1    23\n",
       "2    22\n",
       "3    23\n",
       "4    23\n",
       "5    22\n",
       "6    25\n",
       "Name: age, dtype: int64"
      ]
     },
     "execution_count": 16,
     "metadata": {},
     "output_type": "execute_result"
    }
   ],
   "source": [
    "csv['age']"
   ]
  },
  {
   "cell_type": "code",
   "execution_count": 17,
   "metadata": {},
   "outputs": [
    {
     "data": {
      "text/plain": [
       "23.142857142857142"
      ]
     },
     "execution_count": 17,
     "metadata": {},
     "output_type": "execute_result"
    }
   ],
   "source": [
    "# media de varsta\n",
    "csv['age'].mean()"
   ]
  },
  {
   "cell_type": "code",
   "execution_count": 18,
   "metadata": {},
   "outputs": [
    {
     "data": {
      "text/plain": [
       "25"
      ]
     },
     "execution_count": 18,
     "metadata": {},
     "output_type": "execute_result"
    }
   ],
   "source": [
    "# varsta maximala\n",
    "csv['age'].max()"
   ]
  },
  {
   "cell_type": "markdown",
   "metadata": {},
   "source": [
    "# Adaugare coloana noua"
   ]
  },
  {
   "cell_type": "code",
   "execution_count": 19,
   "metadata": {},
   "outputs": [],
   "source": [
    "csv['Full Name'] = csv['First Name'] + ' ' + csv['Last Name']"
   ]
  },
  {
   "cell_type": "code",
   "execution_count": 20,
   "metadata": {},
   "outputs": [
    {
     "data": {
      "text/html": [
       "<div>\n",
       "<style scoped>\n",
       "    .dataframe tbody tr th:only-of-type {\n",
       "        vertical-align: middle;\n",
       "    }\n",
       "\n",
       "    .dataframe tbody tr th {\n",
       "        vertical-align: top;\n",
       "    }\n",
       "\n",
       "    .dataframe thead th {\n",
       "        text-align: right;\n",
       "    }\n",
       "</style>\n",
       "<table border=\"1\" class=\"dataframe\">\n",
       "  <thead>\n",
       "    <tr style=\"text-align: right;\">\n",
       "      <th></th>\n",
       "      <th>First Name</th>\n",
       "      <th>Last Name</th>\n",
       "      <th>Country</th>\n",
       "      <th>age</th>\n",
       "      <th>Full Name</th>\n",
       "    </tr>\n",
       "  </thead>\n",
       "  <tbody>\n",
       "    <tr>\n",
       "      <th>0</th>\n",
       "      <td>Bob</td>\n",
       "      <td>Smith</td>\n",
       "      <td>United States</td>\n",
       "      <td>24</td>\n",
       "      <td>Bob Smith</td>\n",
       "    </tr>\n",
       "    <tr>\n",
       "      <th>1</th>\n",
       "      <td>Alice</td>\n",
       "      <td>Williams</td>\n",
       "      <td>Canada</td>\n",
       "      <td>23</td>\n",
       "      <td>Alice Williams</td>\n",
       "    </tr>\n",
       "    <tr>\n",
       "      <th>2</th>\n",
       "      <td>Malcolm</td>\n",
       "      <td>Jone</td>\n",
       "      <td>England</td>\n",
       "      <td>22</td>\n",
       "      <td>Malcolm Jone</td>\n",
       "    </tr>\n",
       "    <tr>\n",
       "      <th>3</th>\n",
       "      <td>Felix</td>\n",
       "      <td>Brown</td>\n",
       "      <td>USA</td>\n",
       "      <td>23</td>\n",
       "      <td>Felix Brown</td>\n",
       "    </tr>\n",
       "    <tr>\n",
       "      <th>4</th>\n",
       "      <td>Alex</td>\n",
       "      <td>Cooper</td>\n",
       "      <td>Poland</td>\n",
       "      <td>23</td>\n",
       "      <td>Alex Cooper</td>\n",
       "    </tr>\n",
       "    <tr>\n",
       "      <th>5</th>\n",
       "      <td>Tod</td>\n",
       "      <td>Campbell</td>\n",
       "      <td>United States</td>\n",
       "      <td>22</td>\n",
       "      <td>Tod Campbell</td>\n",
       "    </tr>\n",
       "    <tr>\n",
       "      <th>6</th>\n",
       "      <td>Derek</td>\n",
       "      <td>Ward</td>\n",
       "      <td>Switzerland</td>\n",
       "      <td>25</td>\n",
       "      <td>Derek Ward</td>\n",
       "    </tr>\n",
       "  </tbody>\n",
       "</table>\n",
       "</div>"
      ],
      "text/plain": [
       "  First Name Last Name        Country  age       Full Name\n",
       "0        Bob     Smith  United States   24       Bob Smith\n",
       "1      Alice  Williams         Canada   23  Alice Williams\n",
       "2    Malcolm      Jone        England   22    Malcolm Jone\n",
       "3      Felix     Brown            USA   23     Felix Brown\n",
       "4       Alex    Cooper         Poland   23     Alex Cooper\n",
       "5        Tod  Campbell  United States   22    Tod Campbell\n",
       "6      Derek      Ward    Switzerland   25      Derek Ward"
      ]
     },
     "execution_count": 20,
     "metadata": {},
     "output_type": "execute_result"
    }
   ],
   "source": [
    "csv"
   ]
  },
  {
   "cell_type": "code",
   "execution_count": 21,
   "metadata": {},
   "outputs": [
    {
     "data": {
      "text/plain": [
       "0    26\n",
       "1    25\n",
       "2    24\n",
       "3    25\n",
       "4    25\n",
       "5    24\n",
       "6    27\n",
       "Name: age, dtype: int64"
      ]
     },
     "execution_count": 21,
     "metadata": {},
     "output_type": "execute_result"
    }
   ],
   "source": [
    "# incrementarea varstei cu 2 pentru fiecare intrare din tabel\n",
    "csv['age'] + 2"
   ]
  },
  {
   "cell_type": "markdown",
   "metadata": {},
   "source": [
    "# Manipularea datelor"
   ]
  },
  {
   "cell_type": "code",
   "execution_count": 22,
   "metadata": {},
   "outputs": [
    {
     "data": {
      "text/plain": [
       "0    United States\n",
       "1           Canada\n",
       "2          England\n",
       "3              USA\n",
       "4           Poland\n",
       "5    United States\n",
       "6      Switzerland\n",
       "Name: Country, dtype: object"
      ]
     },
     "execution_count": 22,
     "metadata": {},
     "output_type": "execute_result"
    }
   ],
   "source": [
    "csv['Country']"
   ]
  },
  {
   "cell_type": "code",
   "execution_count": 26,
   "metadata": {},
   "outputs": [],
   "source": [
    "# observam ca USA si United states sunt separate, dar este aceeasi tara. Hai sa le combinam\n",
    "# oriunde gasim stringul USA,inlocuim cu \"United states\""
   ]
  },
  {
   "cell_type": "code",
   "execution_count": 26,
   "metadata": {},
   "outputs": [],
   "source": [
    "def inloc_usa(country):\n",
    "    if(country == 'USA'):\n",
    "        return 'United States'\n",
    "    return country\n",
    "\n",
    "# column.apply(metoda)\n",
    "csv['Country'] = csv['Country'].apply(inloc_usa)"
   ]
  },
  {
   "cell_type": "code",
   "execution_count": 27,
   "metadata": {},
   "outputs": [
    {
     "data": {
      "text/plain": [
       "0    United States\n",
       "1           Canada\n",
       "2          England\n",
       "3    United States\n",
       "4           Poland\n",
       "5    United States\n",
       "6      Switzerland\n",
       "Name: Country, dtype: object"
      ]
     },
     "execution_count": 27,
     "metadata": {},
     "output_type": "execute_result"
    }
   ],
   "source": [
    "# in loc de usa o sa fie deja 'United States'\n",
    "csv['Country']"
   ]
  },
  {
   "cell_type": "markdown",
   "metadata": {
    "collapsed": true
   },
   "source": [
    "# Experimentati la dorinta manipulari..."
   ]
  }
 ],
 "metadata": {
  "kernelspec": {
   "display_name": "Python 2",
   "language": "python",
   "name": "python2"
  },
  "language_info": {
   "codemirror_mode": {
    "name": "ipython",
    "version": 2
   },
   "file_extension": ".py",
   "mimetype": "text/x-python",
   "name": "python",
   "nbconvert_exporter": "python",
   "pygments_lexer": "ipython2",
   "version": "2.7.15+"
  }
 },
 "nbformat": 4,
 "nbformat_minor": 2
}
