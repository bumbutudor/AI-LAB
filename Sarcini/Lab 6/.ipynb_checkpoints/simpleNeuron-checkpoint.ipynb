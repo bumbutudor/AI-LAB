{
 "cells": [
  {
   "cell_type": "markdown",
   "metadata": {},
   "source": [
    "## <center>Rezolvarea functiei logice OR utilizând un perceptron pe un set format din 3 intrări binare: 0 si 1</center>\n",
    "<img src=\"https://www.electronicshub.org/wp-content/uploads/2015/06/truth-table-2.jpg\">"
   ]
  },
  {
   "cell_type": "code",
   "execution_count": 113,
   "metadata": {},
   "outputs": [],
   "source": [
    "# includem instrumentele necesare (bibliotecile)\n",
    "import numpy as np \n",
    "import random"
   ]
  },
  {
   "cell_type": "code",
   "execution_count": 114,
   "metadata": {},
   "outputs": [],
   "source": [
    "# definim functia de activare (functia logistica)\n",
    "def sigmoidala(x):\n",
    "    return 1 / (1 + np.exp(-x))"
   ]
  },
  {
   "cell_type": "code",
   "execution_count": 115,
   "metadata": {},
   "outputs": [],
   "source": [
    "# definim o functie care returneaza derivata sigmoidalei\n",
    "def sigm_derivata(x):\n",
    "    return x * (1 - x)# sigmoidala(x) * (1-sigmoidala(x))"
   ]
  },
  {
   "cell_type": "code",
   "execution_count": 121,
   "metadata": {},
   "outputs": [],
   "source": [
    "# definim functia OR dintre 0 si 1\n",
    "def f_or(x1, x2, x3):\n",
    "    if (x1 == 0 and x2 == 0 and x3 == 0):\n",
    "        return 0\n",
    "    else: \n",
    "        return 1"
   ]
  },
  {
   "cell_type": "code",
   "execution_count": 145,
   "metadata": {},
   "outputs": [
    {
     "name": "stdout",
     "output_type": "stream",
     "text": [
      "[[0 1 1]\n",
      " [0 0 1]\n",
      " [0 1 1]\n",
      " [0 1 0]\n",
      " [0 0 1]\n",
      " [0 1 1]\n",
      " [1 0 0]\n",
      " [0 1 1]\n",
      " [0 0 1]\n",
      " [1 1 1]]\n"
     ]
    }
   ],
   "source": [
    "# initializam o matrice cu 10 exemple de caracteristici aleatorii pentru inrare\n",
    "date_intrare =  np.random.randint(2, size=(10, 3))\n",
    "print(date_intrare)"
   ]
  },
  {
   "cell_type": "code",
   "execution_count": 146,
   "metadata": {},
   "outputs": [],
   "source": [
    "# calculam functia OR pentru fiecare exemplu din exemplele de intrare\n",
    "date_iesire = [f_or(x1,x2,x3) for x1, x2, x3 in date_intrare]"
   ]
  },
  {
   "cell_type": "code",
   "execution_count": 147,
   "metadata": {},
   "outputs": [
    {
     "name": "stdout",
     "output_type": "stream",
     "text": [
      "[1, 1, 1, 1, 1, 1, 1, 1, 1, 1]\n"
     ]
    }
   ],
   "source": [
    "print(date_iesire)"
   ]
  },
  {
   "cell_type": "code",
   "execution_count": 148,
   "metadata": {},
   "outputs": [
    {
     "name": "stdout",
     "output_type": "stream",
     "text": [
      "0.13107227399823262 0.8363475074699109 0.7255333650197666\n"
     ]
    }
   ],
   "source": [
    "# initializam ponderile cu un numar real random intre 0 si 1\n",
    "pondere1 = random.random()\n",
    "pondere2 = random.random()\n",
    "pondere3 = random.random()\n",
    "print(pondere1, pondere2, pondere3)"
   ]
  },
  {
   "cell_type": "code",
   "execution_count": 149,
   "metadata": {},
   "outputs": [],
   "source": [
    "# initializam constanta de invatare cu 0.05 (in dependenta de rezultat o putem modifica)\n",
    "c = 0.01"
   ]
  },
  {
   "cell_type": "code",
   "execution_count": 150,
   "metadata": {
    "scrolled": true
   },
   "outputs": [],
   "source": [
    "# intr-o 100 de iteratii\n",
    "for j in range(10000):\n",
    "    \n",
    "    # luam fiecare exemplu pe rand (din datele de invatare)\n",
    "    for i, (x1, x2, x3) in enumerate(date_intrare):\n",
    "        \n",
    "        \n",
    "        # calculam activarea totala (sigmoid pe suma ponderata)\n",
    "        iesire = sigmoidala((x1 * pondere1) + (x2 * pondere2) + (x3 * pondere3))\n",
    "        \n",
    "        # calculam eroarea\n",
    "        eroare = ((date_iesire[i] - iesire)**2)/2\n",
    "\n",
    "        # caclulam derivata integrala cu constata de invatare\n",
    "        ajustare = eroare * sigm_derivata(iesire) * c\n",
    "        \n",
    "        pondere1 = pondere1 + ajustare\n",
    "        pondere2 = pondere2 + ajustare\n",
    "        pondere3 = pondere3 + ajustare\n",
    "        #print(\"{} or {} | {} {} {}\".format(x1, x2, iesire, date_iesire[i], eroare))\n",
    "        #print(pondere1, pondere2)"
   ]
  },
  {
   "cell_type": "code",
   "execution_count": 143,
   "metadata": {},
   "outputs": [
    {
     "name": "stdout",
     "output_type": "stream",
     "text": [
      "1 or 1 or 1 | Corect: 1 Neuron: 0.9999980941815247\n",
      "1 or 0 or 1 | Corect: 1 Neuron: 0.9998892118907877\n",
      "1 or 1 or 0 | Corect: 1 Neuron: 0.9998295218621769\n",
      "1 or 1 or 1 | Corect: 1 Neuron: 0.9999980941815247\n",
      "0 or 0 or 0 | Corect: 0 Neuron: 0.5\n",
      "0 or 1 or 1 | Corect: 1 Neuron: 0.9998077805951022\n",
      "1 or 0 or 0 | Corect: 1 Neuron: 0.9901843804815482\n",
      "1 or 0 or 0 | Corect: 1 Neuron: 0.9901843804815482\n",
      "0 or 1 or 1 | Corect: 1 Neuron: 0.9998077805951022\n",
      "0 or 1 or 1 | Corect: 1 Neuron: 0.9998077805951022\n"
     ]
    }
   ],
   "source": [
    "for i, (x1, x2, x3) in enumerate(date_intrare):\n",
    "    iesire = sigmoidala((x1 * pondere1) + (x2 * pondere2) + (x3 * pondere3))\n",
    "    print(\"{} or {} or {} | Corect: {} Neuron: {}\".format(x1, x2, x3, date_iesire[i], iesire))"
   ]
  }
 ],
 "metadata": {
  "kernelspec": {
   "display_name": "Python 3",
   "language": "python",
   "name": "python3"
  },
  "language_info": {
   "codemirror_mode": {
    "name": "ipython",
    "version": 3
   },
   "file_extension": ".py",
   "mimetype": "text/x-python",
   "name": "python",
   "nbconvert_exporter": "python",
   "pygments_lexer": "ipython3",
   "version": "3.6.8"
  }
 },
 "nbformat": 4,
 "nbformat_minor": 2
}
