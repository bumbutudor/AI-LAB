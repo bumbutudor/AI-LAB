{
 "cells": [
  {
   "cell_type": "markdown",
   "metadata": {},
   "source": [
    "# Algoritmul K Nearest Neighbors"
   ]
  },
  {
   "cell_type": "markdown",
   "metadata": {},
   "source": [
    "## Sarcina\n"
   ]
  },
  {
   "cell_type": "markdown",
   "metadata": {},
   "source": [
    "Scrieți un program Python folosind Scikit-learn. Împărțiți setul de date 'iris.csv' (path dataset/iris.csv) în 70% date de antrenare și 30% date de testare. Din totalul de 150 de înregistrări, setul de antrenare va conține 105 înregistrări, iar setul de testare va conține 45 dintre aceste înregistrări. Presupuneți răspunsul corect pentru setul de date de testare care are urmatoarele artibute ('sepal_length', 'sepal_width', 'petal_length', 'petal_width') folosind algoritmul k-Nearest Neighbors. Utilizați k = 5 (număr de vecini).\n",
    "\n",
    "Referinte: https://www.datacamp.com/community/tutorials/k-nearest-neighbor-classification-scikit-learn\n",
    "\n",
    "Solutie: http://81.180.84.246:8888/notebooks/AI-LAB/Lab%205/lab_5_solutie.ipynb\n",
    "\n",
    "Parola: HDOHP cifrata cu paternul (alfabet: 'abcdefghijklmnopqrstuvwxy'  -> alfabet cifrat: '??qgiumeaylnof?xjkrcvstzwb')"
   ]
  },
  {
   "cell_type": "code",
   "execution_count": null,
   "metadata": {},
   "outputs": [],
   "source": []
  }
 ],
 "metadata": {
  "kernelspec": {
   "display_name": "Python 3",
   "language": "python",
   "name": "python3"
  },
  "language_info": {
   "codemirror_mode": {
    "name": "ipython",
    "version": 3
   },
   "file_extension": ".py",
   "mimetype": "text/x-python",
   "name": "python",
   "nbconvert_exporter": "python",
   "pygments_lexer": "ipython3",
   "version": "3.7.1"
  }
 },
 "nbformat": 4,
 "nbformat_minor": 2
}
